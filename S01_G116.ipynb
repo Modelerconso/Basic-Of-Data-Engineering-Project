{
  "cells": [
    {
      "cell_type": "markdown",
      "metadata": {
        "id": "FQuimSzN1J4B"
      },
      "source": [
        "# API of Twitter."
      ]
    },
    {
      "cell_type": "markdown",
      "metadata": {
        "id": "7T4d99FqKimS"
      },
      "source": [
        "### **Solution to get data in twitter.**"
      ]
    },
    {
      "cell_type": "code",
      "execution_count": null,
      "metadata": {
        "id": "b2EZaTNm1eSa"
      },
      "outputs": [],
      "source": [
        "import tweepy\n",
        "import pandas as pd\n",
        "import matplotlib.pyplot as plt"
      ]
    },
    {
      "cell_type": "code",
      "execution_count": null,
      "metadata": {
        "id": "4-ySHAJl1eSa"
      },
      "outputs": [],
      "source": [
        "auth = tweepy.OAuthHandler(consumer_key, consumer_secret)\n",
        "auth.set_access_token(access_token, access_token_secret)\n",
        "api = tweepy.API(auth, wait_on_rate_limit=True)"
      ]
    },
    {
      "cell_type": "code",
      "execution_count": null,
      "metadata": {
        "id": "Y2MJqcKLsarD"
      },
      "outputs": [],
      "source": [
        "query = '#Premierleague'"
      ]
    },
    {
      "cell_type": "code",
      "execution_count": null,
      "metadata": {
        "id": "iPAjRMA_sWvY"
      },
      "outputs": [],
      "source": [
        "df = pd.DataFrame(columns= ['user', 'text', 'hashtag', 'create','location'])"
      ]
    },
    {
      "cell_type": "code",
      "execution_count": null,
      "metadata": {
        "id": "FhlROdR_siNO"
      },
      "outputs": [],
      "source": [
        "for tweet in tweepy.Cursor(api.search,q=query,count=300,result_type='recent',tweet_mode='extended').items():\n",
        "    entity_hashtag = tweet.entities.get('hashtags')\n",
        "    hashtag = ''\n",
        "    for i in range(0,len(entity_hashtag)):\n",
        "       hashtag = hashtag +'/' + entity_hashtag[i]['text']\n",
        "    user = tweet.user.name\n",
        "    create_at = tweet.created_at\n",
        "    loc = tweet.user.location\n",
        "    try:\n",
        "        text = tweet.retweeted_status.full_text\n",
        "        fav_count = tweet.retweeted_status.favorite_count\n",
        "    except:\n",
        "        text = tweet.full_text\n",
        "        fav_count = tweet.favorite_count\n",
        "    # new_column = pd.Series([create_at,text,hashtag,re_count,fav_count,loc], index=df.columns)\n",
        "    new_column = pd.Series([user,text,hashtag,create_at,loc], index=df.columns)\n",
        "    df = df.append(new_column,ignore_index=True)\n"
      ]
    },
    {
      "cell_type": "code",
      "execution_count": null,
      "metadata": {
        "id": "Cy3iZTjO1o4I"
      },
      "outputs": [],
      "source": [
        "df.to_csv('DataFromTwitter.csv')"
      ]
    },
    {
      "cell_type": "markdown",
      "metadata": {
        "id": "ydPu_HwXWobi"
      },
      "source": [
        "# API of Reddit."
      ]
    },
    {
      "cell_type": "markdown",
      "metadata": {
        "id": "7T4d99FqKimS"
      },
      "source": [
        "### **Solution to get data in Reddit.**"
      ]
    },
    {
      "cell_type": "code",
      "execution_count": null,
      "metadata": {
        "colab": {
          "base_uri": "https://localhost:8080/"
        },
        "id": "7XNgn8idN6a7",
        "outputId": "3b43f445-4755-4551-fb50-4d2b17841671"
      },
      "outputs": [
        {
          "name": "stdout",
          "output_type": "stream",
          "text": [
            "Collecting psaw\n",
            "  Downloading psaw-0.1.0-py3-none-any.whl (15 kB)\n",
            "Requirement already satisfied: requests in /usr/local/lib/python3.7/dist-packages (from psaw) (2.23.0)\n",
            "Requirement already satisfied: Click in /usr/local/lib/python3.7/dist-packages (from psaw) (7.1.2)\n",
            "Requirement already satisfied: chardet<4,>=3.0.2 in /usr/local/lib/python3.7/dist-packages (from requests->psaw) (3.0.4)\n",
            "Requirement already satisfied: certifi>=2017.4.17 in /usr/local/lib/python3.7/dist-packages (from requests->psaw) (2021.10.8)\n",
            "Requirement already satisfied: idna<3,>=2.5 in /usr/local/lib/python3.7/dist-packages (from requests->psaw) (2.10)\n",
            "Requirement already satisfied: urllib3!=1.25.0,!=1.25.1,<1.26,>=1.21.1 in /usr/local/lib/python3.7/dist-packages (from requests->psaw) (1.24.3)\n",
            "Installing collected packages: psaw\n",
            "Successfully installed psaw-0.1.0\n"
          ]
        }
      ],
      "source": [
        "pip install psaw"
      ]
    },
    {
      "cell_type": "code",
      "execution_count": null,
      "metadata": {
        "id": "VM0LWdIW_Lgz"
      },
      "outputs": [],
      "source": [
        "from datetime import datetime\n",
        "from psaw import PushshiftAPI\n",
        "\n",
        "api = PushshiftAPI()"
      ]
    },
    {
      "cell_type": "code",
      "execution_count": null,
      "metadata": {
        "id": "yzysrI8NvUg6"
      },
      "outputs": [],
      "source": [
        "start_epoch=int(datetime(2021, 8, 1).timestamp()) #start_date\n",
        "end_epoch=int(datetime(2022, 3, 29).timestamp()) #end_date"
      ]
    },
    {
      "cell_type": "code",
      "execution_count": null,
      "metadata": {
        "id": "2lLdQATlvQjL"
      },
      "outputs": [],
      "source": [
        "submissions = api.search_submissions(subreddit=\"premierleague\", limit=10000, after = start_epoch, before = end_epoch)\n",
        "\n",
        "df_api = pd.DataFrame(submissions)"
      ]
    },
    {
      "cell_type": "code",
      "execution_count": null,
      "metadata": {
        "id": "dRID4M_1uXVf"
      },
      "outputs": [],
      "source": [
        "for index in range(0,len(df_api['created_utc'])) :\n",
        "  df_api['created_utc'][index] = datetime.fromtimestamp(df_api['created_utc'][index]).strftime('%Y-%m-%d %H:%M:%S')"
      ]
    },
    {
      "cell_type": "code",
      "execution_count": null,
      "metadata": {
        "id": "GowT-SCMGcds"
      },
      "outputs": [],
      "source": [
        "df_api.to_csv('DataFromReddit1.csv')"
      ]
    },
    {
      "cell_type": "markdown",
      "metadata": {
        "id": "tOTnevQL2gYx"
      },
      "source": [
        "# Get data from file Twitter."
      ]
    },
    {
      "cell_type": "code",
      "execution_count": 111,
      "metadata": {
        "id": "7OvuPgFg25hr"
      },
      "outputs": [],
      "source": [
        "import pandas as pd\n",
        "df_twitter = pd.read_csv(\"DataFromTwitter.csv\")"
      ]
    },
    {
      "cell_type": "code",
      "execution_count": 112,
      "metadata": {
        "colab": {
          "base_uri": "https://localhost:8080/"
        },
        "id": "dhwCHaXs18rW",
        "outputId": "d1128102-9852-410c-dc41-98ebba1cacac"
      },
      "outputs": [
        {
          "data": {
            "text/plain": [
              "(18311, 6)"
            ]
          },
          "execution_count": 112,
          "metadata": {},
          "output_type": "execute_result"
        }
      ],
      "source": [
        "df_twitter.shape"
      ]
    },
    {
      "cell_type": "markdown",
      "metadata": {
        "id": "OOYcNrZJKmak"
      },
      "source": [
        "# Get data from file reddit."
      ]
    },
    {
      "cell_type": "code",
      "execution_count": 4,
      "metadata": {
        "id": "Jj0YgEWr3URm"
      },
      "outputs": [],
      "source": [
        "import pandas as pd"
      ]
    },
    {
      "cell_type": "code",
      "execution_count": 5,
      "metadata": {
        "colab": {
          "base_uri": "https://localhost:8080/"
        },
        "id": "aVuFH--FNnEE",
        "outputId": "1a182c64-e2f5-428b-a3cd-8c5a22672bb8"
      },
      "outputs": [
        {
          "name": "stderr",
          "output_type": "stream",
          "text": [
            "C:\\Users\\poohp\\AppData\\Local\\Temp\\ipykernel_2660\\3872430671.py:1: DtypeWarning: Columns (87) have mixed types. Specify dtype option on import or set low_memory=False.\n",
            "  df_real = pd.read_csv('DataFromReddit.csv')\n"
          ]
        }
      ],
      "source": [
        "df_real = pd.read_csv('DataFromReddit.csv')\n",
        "df = df_real.copy()"
      ]
    },
    {
      "cell_type": "code",
      "execution_count": 6,
      "metadata": {
        "colab": {
          "base_uri": "https://localhost:8080/"
        },
        "id": "FAOsoMR_f3lj",
        "outputId": "90f99bb7-071f-4f8d-d60d-6a3e19a7b8f2"
      },
      "outputs": [
        {
          "data": {
            "text/plain": [
              "(10000, 90)"
            ]
          },
          "execution_count": 6,
          "metadata": {},
          "output_type": "execute_result"
        }
      ],
      "source": [
        "df.shape"
      ]
    },
    {
      "cell_type": "markdown",
      "metadata": {
        "id": "nwro0-wJNPVh"
      },
      "source": [
        "#Clean / Format Data"
      ]
    },
    {
      "cell_type": "markdown",
      "metadata": {
        "id": "b9_iVGJz6Ld9"
      },
      "source": [
        "# Clean data form twitter."
      ]
    },
    {
      "cell_type": "markdown",
      "metadata": {
        "id": "KD0mw5OR8M8m"
      },
      "source": [
        "**Duplicated data.**"
      ]
    },
    {
      "cell_type": "code",
      "execution_count": 113,
      "metadata": {
        "id": "VIybCeaoSXjB"
      },
      "outputs": [],
      "source": [
        "import re"
      ]
    },
    {
      "cell_type": "code",
      "execution_count": 114,
      "metadata": {
        "colab": {
          "base_uri": "https://localhost:8080/",
          "height": 0
        },
        "id": "0tGFXf2g65wr",
        "outputId": "9ecc1e27-4e7c-484f-c999-9b21ffe1bbe4"
      },
      "outputs": [
        {
          "data": {
            "text/html": [
              "<div>\n",
              "<style scoped>\n",
              "    .dataframe tbody tr th:only-of-type {\n",
              "        vertical-align: middle;\n",
              "    }\n",
              "\n",
              "    .dataframe tbody tr th {\n",
              "        vertical-align: top;\n",
              "    }\n",
              "\n",
              "    .dataframe thead th {\n",
              "        text-align: right;\n",
              "    }\n",
              "</style>\n",
              "<table border=\"1\" class=\"dataframe\">\n",
              "  <thead>\n",
              "    <tr style=\"text-align: right;\">\n",
              "      <th></th>\n",
              "      <th>Unnamed: 0</th>\n",
              "      <th>user</th>\n",
              "      <th>text</th>\n",
              "      <th>hashtag</th>\n",
              "      <th>create</th>\n",
              "      <th>location</th>\n",
              "    </tr>\n",
              "  </thead>\n",
              "  <tbody>\n",
              "    <tr>\n",
              "      <th>0</th>\n",
              "      <td>0</td>\n",
              "      <td>Kate</td>\n",
              "      <td>Huge weekend of fixtures coming up!🤩\\n\\nMan Ut...</td>\n",
              "      <td>NaN</td>\n",
              "      <td>2022-03-29 19:06:51</td>\n",
              "      <td>NaN</td>\n",
              "    </tr>\n",
              "    <tr>\n",
              "      <th>1</th>\n",
              "      <td>1</td>\n",
              "      <td>Steve Fred Brooker</td>\n",
              "      <td>Huge weekend of fixtures coming up!🤩\\n\\nMan Ut...</td>\n",
              "      <td>NaN</td>\n",
              "      <td>2022-03-29 19:06:36</td>\n",
              "      <td>NaN</td>\n",
              "    </tr>\n",
              "    <tr>\n",
              "      <th>2</th>\n",
              "      <td>2</td>\n",
              "      <td>Edilton Silva 🇾🇪🇳🇬</td>\n",
              "      <td>Jürgen Klopp 🇩🇪 Outfit Collection for #FIFA22 ...</td>\n",
              "      <td>/FIFA22</td>\n",
              "      <td>2022-03-29 19:04:39</td>\n",
              "      <td>Salvador Ba</td>\n",
              "    </tr>\n",
              "    <tr>\n",
              "      <th>3</th>\n",
              "      <td>3</td>\n",
              "      <td>michael hickey</td>\n",
              "      <td>As it's Marc Overmars' birthday today I though...</td>\n",
              "      <td>/Arsenal</td>\n",
              "      <td>2022-03-29 19:04:16</td>\n",
              "      <td>London UK</td>\n",
              "    </tr>\n",
              "    <tr>\n",
              "      <th>4</th>\n",
              "      <td>4</td>\n",
              "      <td>ChernyVolk - The Outcast</td>\n",
              "      <td>Virtual Bundesliga ed ePremier League nel week...</td>\n",
              "      <td>/esports/fifa/Bundesliga</td>\n",
              "      <td>2022-03-29 19:02:30</td>\n",
              "      <td>Terra di lavoro</td>\n",
              "    </tr>\n",
              "  </tbody>\n",
              "</table>\n",
              "</div>"
            ],
            "text/plain": [
              "   Unnamed: 0                      user  \\\n",
              "0           0                      Kate   \n",
              "1           1        Steve Fred Brooker   \n",
              "2           2        Edilton Silva 🇾🇪🇳🇬   \n",
              "3           3            michael hickey   \n",
              "4           4  ChernyVolk - The Outcast   \n",
              "\n",
              "                                                text  \\\n",
              "0  Huge weekend of fixtures coming up!🤩\\n\\nMan Ut...   \n",
              "1  Huge weekend of fixtures coming up!🤩\\n\\nMan Ut...   \n",
              "2  Jürgen Klopp 🇩🇪 Outfit Collection for #FIFA22 ...   \n",
              "3  As it's Marc Overmars' birthday today I though...   \n",
              "4  Virtual Bundesliga ed ePremier League nel week...   \n",
              "\n",
              "                    hashtag               create         location  \n",
              "0                       NaN  2022-03-29 19:06:51              NaN  \n",
              "1                       NaN  2022-03-29 19:06:36              NaN  \n",
              "2                   /FIFA22  2022-03-29 19:04:39      Salvador Ba  \n",
              "3                  /Arsenal  2022-03-29 19:04:16       London UK   \n",
              "4  /esports/fifa/Bundesliga  2022-03-29 19:02:30  Terra di lavoro  "
            ]
          },
          "execution_count": 114,
          "metadata": {},
          "output_type": "execute_result"
        }
      ],
      "source": [
        "df_twitter.head(5)"
      ]
    },
    {
      "cell_type": "code",
      "execution_count": 115,
      "metadata": {
        "id": "OCB8-GO_6yCF"
      },
      "outputs": [],
      "source": [
        "df_twitter = df_twitter.drop([('Unnamed: 0')], axis = 1)"
      ]
    },
    {
      "cell_type": "code",
      "execution_count": 116,
      "metadata": {
        "colab": {
          "base_uri": "https://localhost:8080/"
        },
        "id": "NiKy-0SA4OYp",
        "outputId": "4f5c9f54-6dd8-41b9-d76c-7693aac01371"
      },
      "outputs": [
        {
          "data": {
            "text/plain": [
              "0        False\n",
              "1        False\n",
              "2        False\n",
              "3        False\n",
              "4        False\n",
              "         ...  \n",
              "18306     True\n",
              "18307     True\n",
              "18308     True\n",
              "18309     True\n",
              "18310     True\n",
              "Length: 18311, dtype: bool"
            ]
          },
          "execution_count": 116,
          "metadata": {},
          "output_type": "execute_result"
        }
      ],
      "source": [
        "df_twitter.duplicated()"
      ]
    },
    {
      "cell_type": "code",
      "execution_count": 117,
      "metadata": {
        "colab": {
          "base_uri": "https://localhost:8080/"
        },
        "id": "6RuDY0SI18rX",
        "outputId": "18284eac-5a5b-465d-9ccd-3687408df13c"
      },
      "outputs": [
        {
          "name": "stdout",
          "output_type": "stream",
          "text": [
            "(18311, 5)\n",
            "(9155, 5)\n"
          ]
        }
      ],
      "source": [
        "print(df_twitter.shape)\n",
        "df_twitter.drop_duplicates(inplace=True)\n",
        "print(df_twitter.shape)"
      ]
    },
    {
      "cell_type": "markdown",
      "metadata": {
        "id": "1xxhhlnA8JIm"
      },
      "source": [
        "**Check data is null**"
      ]
    },
    {
      "cell_type": "code",
      "execution_count": 118,
      "metadata": {
        "colab": {
          "base_uri": "https://localhost:8080/"
        },
        "id": "r3ptHsCv8WGW",
        "outputId": "8a4931c0-9ac6-4dd7-953e-5cebcb41d177"
      },
      "outputs": [
        {
          "data": {
            "text/plain": [
              "user           0\n",
              "text           0\n",
              "hashtag     1374\n",
              "create         0\n",
              "location    4079\n",
              "dtype: int64"
            ]
          },
          "execution_count": 118,
          "metadata": {},
          "output_type": "execute_result"
        }
      ],
      "source": [
        "df_twitter.isna().sum()"
      ]
    },
    {
      "cell_type": "markdown",
      "metadata": {
        "id": "1HuAmtFQ8Wvj"
      },
      "source": [
        "**Manage format of data.**"
      ]
    },
    {
      "cell_type": "code",
      "execution_count": 119,
      "metadata": {
        "colab": {
          "base_uri": "https://localhost:8080/",
          "height": 0
        },
        "id": "ZGnvEN3_2m14",
        "outputId": "220c1179-feac-465d-8caf-cf4f4c4938df"
      },
      "outputs": [
        {
          "data": {
            "text/html": [
              "<div>\n",
              "<style scoped>\n",
              "    .dataframe tbody tr th:only-of-type {\n",
              "        vertical-align: middle;\n",
              "    }\n",
              "\n",
              "    .dataframe tbody tr th {\n",
              "        vertical-align: top;\n",
              "    }\n",
              "\n",
              "    .dataframe thead th {\n",
              "        text-align: right;\n",
              "    }\n",
              "</style>\n",
              "<table border=\"1\" class=\"dataframe\">\n",
              "  <thead>\n",
              "    <tr style=\"text-align: right;\">\n",
              "      <th></th>\n",
              "      <th>user</th>\n",
              "      <th>text</th>\n",
              "      <th>hashtag</th>\n",
              "      <th>create</th>\n",
              "      <th>location</th>\n",
              "      <th>date</th>\n",
              "      <th>time</th>\n",
              "    </tr>\n",
              "  </thead>\n",
              "  <tbody>\n",
              "    <tr>\n",
              "      <th>0</th>\n",
              "      <td>Kate</td>\n",
              "      <td>Huge weekend of fixtures coming up!🤩\\n\\nMan Ut...</td>\n",
              "      <td>NaN</td>\n",
              "      <td>2022-03-29 19:06:51</td>\n",
              "      <td>NaN</td>\n",
              "      <td>2022-03-29</td>\n",
              "      <td>19:06:51</td>\n",
              "    </tr>\n",
              "    <tr>\n",
              "      <th>1</th>\n",
              "      <td>Steve Fred Brooker</td>\n",
              "      <td>Huge weekend of fixtures coming up!🤩\\n\\nMan Ut...</td>\n",
              "      <td>NaN</td>\n",
              "      <td>2022-03-29 19:06:36</td>\n",
              "      <td>NaN</td>\n",
              "      <td>2022-03-29</td>\n",
              "      <td>19:06:36</td>\n",
              "    </tr>\n",
              "    <tr>\n",
              "      <th>2</th>\n",
              "      <td>Edilton Silva 🇾🇪🇳🇬</td>\n",
              "      <td>Jürgen Klopp 🇩🇪 Outfit Collection for #FIFA22 ...</td>\n",
              "      <td>/FIFA22</td>\n",
              "      <td>2022-03-29 19:04:39</td>\n",
              "      <td>Salvador Ba</td>\n",
              "      <td>2022-03-29</td>\n",
              "      <td>19:04:39</td>\n",
              "    </tr>\n",
              "    <tr>\n",
              "      <th>3</th>\n",
              "      <td>michael hickey</td>\n",
              "      <td>As it's Marc Overmars' birthday today I though...</td>\n",
              "      <td>/Arsenal</td>\n",
              "      <td>2022-03-29 19:04:16</td>\n",
              "      <td>London UK</td>\n",
              "      <td>2022-03-29</td>\n",
              "      <td>19:04:16</td>\n",
              "    </tr>\n",
              "    <tr>\n",
              "      <th>4</th>\n",
              "      <td>ChernyVolk - The Outcast</td>\n",
              "      <td>Virtual Bundesliga ed ePremier League nel week...</td>\n",
              "      <td>/esports/fifa/Bundesliga</td>\n",
              "      <td>2022-03-29 19:02:30</td>\n",
              "      <td>Terra di lavoro</td>\n",
              "      <td>2022-03-29</td>\n",
              "      <td>19:02:30</td>\n",
              "    </tr>\n",
              "  </tbody>\n",
              "</table>\n",
              "</div>"
            ],
            "text/plain": [
              "                       user  \\\n",
              "0                      Kate   \n",
              "1        Steve Fred Brooker   \n",
              "2        Edilton Silva 🇾🇪🇳🇬   \n",
              "3            michael hickey   \n",
              "4  ChernyVolk - The Outcast   \n",
              "\n",
              "                                                text  \\\n",
              "0  Huge weekend of fixtures coming up!🤩\\n\\nMan Ut...   \n",
              "1  Huge weekend of fixtures coming up!🤩\\n\\nMan Ut...   \n",
              "2  Jürgen Klopp 🇩🇪 Outfit Collection for #FIFA22 ...   \n",
              "3  As it's Marc Overmars' birthday today I though...   \n",
              "4  Virtual Bundesliga ed ePremier League nel week...   \n",
              "\n",
              "                    hashtag               create         location        date  \\\n",
              "0                       NaN  2022-03-29 19:06:51              NaN  2022-03-29   \n",
              "1                       NaN  2022-03-29 19:06:36              NaN  2022-03-29   \n",
              "2                   /FIFA22  2022-03-29 19:04:39      Salvador Ba  2022-03-29   \n",
              "3                  /Arsenal  2022-03-29 19:04:16       London UK   2022-03-29   \n",
              "4  /esports/fifa/Bundesliga  2022-03-29 19:02:30  Terra di lavoro  2022-03-29   \n",
              "\n",
              "       time  \n",
              "0  19:06:51  \n",
              "1  19:06:36  \n",
              "2  19:04:39  \n",
              "3  19:04:16  \n",
              "4  19:02:30  "
            ]
          },
          "execution_count": 119,
          "metadata": {},
          "output_type": "execute_result"
        }
      ],
      "source": [
        "new = df_twitter[\"create\"].str.split(' ', n = 1, expand = True) \n",
        "df_twitter[\"date\"] = new[0]\n",
        "df_twitter [\"time\"] = new[1]\n",
        "df_twitter.head(5)"
      ]
    },
    {
      "cell_type": "markdown",
      "metadata": {
        "id": "yPTWw7mU8g8G"
      },
      "source": [
        "**Drop column is not to use.**"
      ]
    },
    {
      "cell_type": "code",
      "execution_count": 120,
      "metadata": {
        "colab": {
          "base_uri": "https://localhost:8080/",
          "height": 0
        },
        "id": "ILjMUVL87piG",
        "outputId": "9610513f-5d02-4468-811f-d5c2065cb016"
      },
      "outputs": [
        {
          "data": {
            "text/html": [
              "<div>\n",
              "<style scoped>\n",
              "    .dataframe tbody tr th:only-of-type {\n",
              "        vertical-align: middle;\n",
              "    }\n",
              "\n",
              "    .dataframe tbody tr th {\n",
              "        vertical-align: top;\n",
              "    }\n",
              "\n",
              "    .dataframe thead th {\n",
              "        text-align: right;\n",
              "    }\n",
              "</style>\n",
              "<table border=\"1\" class=\"dataframe\">\n",
              "  <thead>\n",
              "    <tr style=\"text-align: right;\">\n",
              "      <th></th>\n",
              "      <th>user</th>\n",
              "      <th>text</th>\n",
              "      <th>date</th>\n",
              "      <th>time</th>\n",
              "    </tr>\n",
              "  </thead>\n",
              "  <tbody>\n",
              "    <tr>\n",
              "      <th>0</th>\n",
              "      <td>Kate</td>\n",
              "      <td>Huge weekend of fixtures coming up!🤩\\n\\nMan Ut...</td>\n",
              "      <td>2022-03-29</td>\n",
              "      <td>19:06:51</td>\n",
              "    </tr>\n",
              "    <tr>\n",
              "      <th>1</th>\n",
              "      <td>Steve Fred Brooker</td>\n",
              "      <td>Huge weekend of fixtures coming up!🤩\\n\\nMan Ut...</td>\n",
              "      <td>2022-03-29</td>\n",
              "      <td>19:06:36</td>\n",
              "    </tr>\n",
              "    <tr>\n",
              "      <th>2</th>\n",
              "      <td>Edilton Silva 🇾🇪🇳🇬</td>\n",
              "      <td>Jürgen Klopp 🇩🇪 Outfit Collection for #FIFA22 ...</td>\n",
              "      <td>2022-03-29</td>\n",
              "      <td>19:04:39</td>\n",
              "    </tr>\n",
              "    <tr>\n",
              "      <th>3</th>\n",
              "      <td>michael hickey</td>\n",
              "      <td>As it's Marc Overmars' birthday today I though...</td>\n",
              "      <td>2022-03-29</td>\n",
              "      <td>19:04:16</td>\n",
              "    </tr>\n",
              "    <tr>\n",
              "      <th>4</th>\n",
              "      <td>ChernyVolk - The Outcast</td>\n",
              "      <td>Virtual Bundesliga ed ePremier League nel week...</td>\n",
              "      <td>2022-03-29</td>\n",
              "      <td>19:02:30</td>\n",
              "    </tr>\n",
              "  </tbody>\n",
              "</table>\n",
              "</div>"
            ],
            "text/plain": [
              "                       user  \\\n",
              "0                      Kate   \n",
              "1        Steve Fred Brooker   \n",
              "2        Edilton Silva 🇾🇪🇳🇬   \n",
              "3            michael hickey   \n",
              "4  ChernyVolk - The Outcast   \n",
              "\n",
              "                                                text        date      time  \n",
              "0  Huge weekend of fixtures coming up!🤩\\n\\nMan Ut...  2022-03-29  19:06:51  \n",
              "1  Huge weekend of fixtures coming up!🤩\\n\\nMan Ut...  2022-03-29  19:06:36  \n",
              "2  Jürgen Klopp 🇩🇪 Outfit Collection for #FIFA22 ...  2022-03-29  19:04:39  \n",
              "3  As it's Marc Overmars' birthday today I though...  2022-03-29  19:04:16  \n",
              "4  Virtual Bundesliga ed ePremier League nel week...  2022-03-29  19:02:30  "
            ]
          },
          "execution_count": 120,
          "metadata": {},
          "output_type": "execute_result"
        }
      ],
      "source": [
        "df_twitter = df_twitter.drop(columns =['hashtag','create','location'],axis = 1)\n",
        "df_twitter.head(5) "
      ]
    },
    {
      "cell_type": "markdown",
      "metadata": {
        "id": "K3lnwmW58qZy"
      },
      "source": [
        "**Manage format of data.**\n",
        "\n",
        "Credit : P'Fang"
      ]
    },
    {
      "cell_type": "code",
      "execution_count": 121,
      "metadata": {
        "colab": {
          "base_uri": "https://localhost:8080/",
          "height": 0
        },
        "id": "SrFsFHfG8tYb",
        "outputId": "fa4a9a15-ddb6-4ee3-d9c7-c11937d3eca2"
      },
      "outputs": [
        {
          "data": {
            "text/html": [
              "<div>\n",
              "<style scoped>\n",
              "    .dataframe tbody tr th:only-of-type {\n",
              "        vertical-align: middle;\n",
              "    }\n",
              "\n",
              "    .dataframe tbody tr th {\n",
              "        vertical-align: top;\n",
              "    }\n",
              "\n",
              "    .dataframe thead th {\n",
              "        text-align: right;\n",
              "    }\n",
              "</style>\n",
              "<table border=\"1\" class=\"dataframe\">\n",
              "  <thead>\n",
              "    <tr style=\"text-align: right;\">\n",
              "      <th></th>\n",
              "      <th>user</th>\n",
              "      <th>text</th>\n",
              "      <th>date</th>\n",
              "      <th>time</th>\n",
              "      <th>tweet</th>\n",
              "    </tr>\n",
              "  </thead>\n",
              "  <tbody>\n",
              "    <tr>\n",
              "      <th>0</th>\n",
              "      <td>Kate</td>\n",
              "      <td>Huge weekend of fixtures coming up!🤩\\n\\nMan Ut...</td>\n",
              "      <td>2022-03-29</td>\n",
              "      <td>19:06:51</td>\n",
              "      <td>Huge weekend of fixtures coming up!🤩 Man Utd v...</td>\n",
              "    </tr>\n",
              "    <tr>\n",
              "      <th>1</th>\n",
              "      <td>Steve Fred Brooker</td>\n",
              "      <td>Huge weekend of fixtures coming up!🤩\\n\\nMan Ut...</td>\n",
              "      <td>2022-03-29</td>\n",
              "      <td>19:06:36</td>\n",
              "      <td>Huge weekend of fixtures coming up!🤩 Man Utd v...</td>\n",
              "    </tr>\n",
              "    <tr>\n",
              "      <th>2</th>\n",
              "      <td>Edilton Silva 🇾🇪🇳🇬</td>\n",
              "      <td>Jürgen Klopp 🇩🇪 Outfit Collection for #FIFA22 ...</td>\n",
              "      <td>2022-03-29</td>\n",
              "      <td>19:04:39</td>\n",
              "      <td>Jürgen Klopp 🇩🇪 Outfit Collection for #FIFA22 ...</td>\n",
              "    </tr>\n",
              "    <tr>\n",
              "      <th>3</th>\n",
              "      <td>michael hickey</td>\n",
              "      <td>As it's Marc Overmars' birthday today I though...</td>\n",
              "      <td>2022-03-29</td>\n",
              "      <td>19:04:16</td>\n",
              "      <td>As it's Marc Overmars' birthday today I though...</td>\n",
              "    </tr>\n",
              "    <tr>\n",
              "      <th>4</th>\n",
              "      <td>ChernyVolk - The Outcast</td>\n",
              "      <td>Virtual Bundesliga ed ePremier League nel week...</td>\n",
              "      <td>2022-03-29</td>\n",
              "      <td>19:02:30</td>\n",
              "      <td>Virtual Bundesliga ed ePremier League nel week...</td>\n",
              "    </tr>\n",
              "  </tbody>\n",
              "</table>\n",
              "</div>"
            ],
            "text/plain": [
              "                       user  \\\n",
              "0                      Kate   \n",
              "1        Steve Fred Brooker   \n",
              "2        Edilton Silva 🇾🇪🇳🇬   \n",
              "3            michael hickey   \n",
              "4  ChernyVolk - The Outcast   \n",
              "\n",
              "                                                text        date      time  \\\n",
              "0  Huge weekend of fixtures coming up!🤩\\n\\nMan Ut...  2022-03-29  19:06:51   \n",
              "1  Huge weekend of fixtures coming up!🤩\\n\\nMan Ut...  2022-03-29  19:06:36   \n",
              "2  Jürgen Klopp 🇩🇪 Outfit Collection for #FIFA22 ...  2022-03-29  19:04:39   \n",
              "3  As it's Marc Overmars' birthday today I though...  2022-03-29  19:04:16   \n",
              "4  Virtual Bundesliga ed ePremier League nel week...  2022-03-29  19:02:30   \n",
              "\n",
              "                                               tweet  \n",
              "0  Huge weekend of fixtures coming up!🤩 Man Utd v...  \n",
              "1  Huge weekend of fixtures coming up!🤩 Man Utd v...  \n",
              "2  Jürgen Klopp 🇩🇪 Outfit Collection for #FIFA22 ...  \n",
              "3  As it's Marc Overmars' birthday today I though...  \n",
              "4  Virtual Bundesliga ed ePremier League nel week...  "
            ]
          },
          "execution_count": 121,
          "metadata": {},
          "output_type": "execute_result"
        }
      ],
      "source": [
        "df_twitter[\"tweet\"] = df_twitter['text'].apply(lambda msg: re.sub(\"https*\\S+\", \" \", msg)).apply(lambda msg: re.sub(\"@\\S+\", \" \", msg)).apply( lambda msg: \" \".join(msg.split())) \n",
        "df_twitter.head()"
      ]
    },
    {
      "cell_type": "code",
      "execution_count": 122,
      "metadata": {
        "colab": {
          "base_uri": "https://localhost:8080/"
        },
        "id": "jsgVQXI68yB2",
        "outputId": "cf409507-5288-42aa-82d3-19ae368ae317"
      },
      "outputs": [
        {
          "name": "stdout",
          "output_type": "stream",
          "text": [
            "9155\n"
          ]
        }
      ],
      "source": [
        "print(len(df_twitter))"
      ]
    },
    {
      "cell_type": "markdown",
      "metadata": {
        "id": "NsmSHwvi9HAa"
      },
      "source": [
        "**Remove emoji in text.**\n",
        "\n",
        "Credit : [saaranshM](https://gist.github.com/slowkow/7a7f61f495e3dbb7e3d767f97bd7304b)"
      ]
    },
    {
      "cell_type": "code",
      "execution_count": 123,
      "metadata": {
        "id": "mh4vsOo489Rh"
      },
      "outputs": [],
      "source": [
        "def removeEmoji(text):\n",
        "    re_pattern = re.compile(pattern = \"[\"\n",
        "                               u\"\\u2640-\\u2642\"\n",
        "                               u\"\\u2600-\\u2B55\"\n",
        "                               u\"\\u200d\"\n",
        "                               u\"\\u23cf\"\n",
        "                               u\"\\u23e9\"\n",
        "                               u\"\\u231a\"\n",
        "                               u\"\\ufe0f\"\n",
        "                               u\"\\u3030\"\n",
        "                               u\"\\U0001F600-\\U0001F64F\"  # Emoticons\n",
        "                               u\"\\U0001F300-\\U0001F5FF\"  # Symbols & pictographs\n",
        "                               u\"\\U0001F680-\\U0001F6FF\"  # Transport & map symbols\n",
        "                               u\"\\U0001F1E0-\\U0001F1FF\"  # Flags (iOS)\n",
        "                               u\"\\U00002500-\\U00002BEF\"  # Chinese char\n",
        "                               u\"\\U00002702-\\U000027B0\"\n",
        "                               u\"\\U00002702-\\U000027B0\"\n",
        "                               u\"\\U000024C2-\\U0001F251\"\n",
        "                               u\"\\U0001f926-\\U0001f937\"\n",
        "                               u\"\\U00010000-\\U0010ffff\"\n",
        "                               \"]+\", flags = re.UNICODE)\n",
        "    return re_pattern.sub(r'',text)\n",
        "\n",
        "ListNotEmoji = []\n",
        "for text in df_twitter[\"tweet\"]:\n",
        "  ListNotEmoji.append(removeEmoji(text))\n",
        "df_twitter['tweet'] = ListNotEmoji "
      ]
    },
    {
      "cell_type": "code",
      "execution_count": 124,
      "metadata": {
        "colab": {
          "base_uri": "https://localhost:8080/",
          "height": 0
        },
        "id": "ilKsrutp-T7M",
        "outputId": "ac2a4387-044d-4d28-d692-3ec5aa599b86"
      },
      "outputs": [
        {
          "data": {
            "text/html": [
              "<div>\n",
              "<style scoped>\n",
              "    .dataframe tbody tr th:only-of-type {\n",
              "        vertical-align: middle;\n",
              "    }\n",
              "\n",
              "    .dataframe tbody tr th {\n",
              "        vertical-align: top;\n",
              "    }\n",
              "\n",
              "    .dataframe thead th {\n",
              "        text-align: right;\n",
              "    }\n",
              "</style>\n",
              "<table border=\"1\" class=\"dataframe\">\n",
              "  <thead>\n",
              "    <tr style=\"text-align: right;\">\n",
              "      <th></th>\n",
              "      <th>user</th>\n",
              "      <th>text</th>\n",
              "      <th>date</th>\n",
              "      <th>time</th>\n",
              "      <th>tweet</th>\n",
              "    </tr>\n",
              "  </thead>\n",
              "  <tbody>\n",
              "    <tr>\n",
              "      <th>0</th>\n",
              "      <td>Kate</td>\n",
              "      <td>Huge weekend of fixtures coming up!🤩\\n\\nMan Ut...</td>\n",
              "      <td>2022-03-29</td>\n",
              "      <td>19:06:51</td>\n",
              "      <td>Huge weekend of fixtures coming up! Man Utd v ...</td>\n",
              "    </tr>\n",
              "    <tr>\n",
              "      <th>1</th>\n",
              "      <td>Steve Fred Brooker</td>\n",
              "      <td>Huge weekend of fixtures coming up!🤩\\n\\nMan Ut...</td>\n",
              "      <td>2022-03-29</td>\n",
              "      <td>19:06:36</td>\n",
              "      <td>Huge weekend of fixtures coming up! Man Utd v ...</td>\n",
              "    </tr>\n",
              "    <tr>\n",
              "      <th>2</th>\n",
              "      <td>Edilton Silva 🇾🇪🇳🇬</td>\n",
              "      <td>Jürgen Klopp 🇩🇪 Outfit Collection for #FIFA22 ...</td>\n",
              "      <td>2022-03-29</td>\n",
              "      <td>19:04:39</td>\n",
              "      <td>Jürgen Klopp  Outfit Collection for #FIFA22 DL...</td>\n",
              "    </tr>\n",
              "    <tr>\n",
              "      <th>3</th>\n",
              "      <td>michael hickey</td>\n",
              "      <td>As it's Marc Overmars' birthday today I though...</td>\n",
              "      <td>2022-03-29</td>\n",
              "      <td>19:04:16</td>\n",
              "      <td>As it's Marc Overmars' birthday today I though...</td>\n",
              "    </tr>\n",
              "    <tr>\n",
              "      <th>4</th>\n",
              "      <td>ChernyVolk - The Outcast</td>\n",
              "      <td>Virtual Bundesliga ed ePremier League nel week...</td>\n",
              "      <td>2022-03-29</td>\n",
              "      <td>19:02:30</td>\n",
              "      <td>Virtual Bundesliga ed ePremier League nel week...</td>\n",
              "    </tr>\n",
              "  </tbody>\n",
              "</table>\n",
              "</div>"
            ],
            "text/plain": [
              "                       user  \\\n",
              "0                      Kate   \n",
              "1        Steve Fred Brooker   \n",
              "2        Edilton Silva 🇾🇪🇳🇬   \n",
              "3            michael hickey   \n",
              "4  ChernyVolk - The Outcast   \n",
              "\n",
              "                                                text        date      time  \\\n",
              "0  Huge weekend of fixtures coming up!🤩\\n\\nMan Ut...  2022-03-29  19:06:51   \n",
              "1  Huge weekend of fixtures coming up!🤩\\n\\nMan Ut...  2022-03-29  19:06:36   \n",
              "2  Jürgen Klopp 🇩🇪 Outfit Collection for #FIFA22 ...  2022-03-29  19:04:39   \n",
              "3  As it's Marc Overmars' birthday today I though...  2022-03-29  19:04:16   \n",
              "4  Virtual Bundesliga ed ePremier League nel week...  2022-03-29  19:02:30   \n",
              "\n",
              "                                               tweet  \n",
              "0  Huge weekend of fixtures coming up! Man Utd v ...  \n",
              "1  Huge weekend of fixtures coming up! Man Utd v ...  \n",
              "2  Jürgen Klopp  Outfit Collection for #FIFA22 DL...  \n",
              "3  As it's Marc Overmars' birthday today I though...  \n",
              "4  Virtual Bundesliga ed ePremier League nel week...  "
            ]
          },
          "execution_count": 124,
          "metadata": {},
          "output_type": "execute_result"
        }
      ],
      "source": [
        "df_twitter.head(5)"
      ]
    },
    {
      "cell_type": "code",
      "execution_count": 125,
      "metadata": {
        "id": "vS9B3M78_bXc"
      },
      "outputs": [],
      "source": [
        "df_twitter = df_twitter.drop('text',axis=1 )"
      ]
    },
    {
      "cell_type": "code",
      "execution_count": 126,
      "metadata": {
        "id": "yj3f4bLOAPyB"
      },
      "outputs": [],
      "source": [
        "df_twitter = df_twitter[[\"user\",\"tweet\",\"date\",\"time\"]]\n",
        "df_twitter.columns = [\"user\",\"text\",\"date\",\"time\"]"
      ]
    },
    {
      "cell_type": "code",
      "execution_count": 128,
      "metadata": {
        "colab": {
          "base_uri": "https://localhost:8080/",
          "height": 0
        },
        "id": "2xXVsi89_lBr",
        "outputId": "f2eced5b-7f1b-42f7-c4d0-68f4e86b0d9a"
      },
      "outputs": [
        {
          "data": {
            "text/html": [
              "<div>\n",
              "<style scoped>\n",
              "    .dataframe tbody tr th:only-of-type {\n",
              "        vertical-align: middle;\n",
              "    }\n",
              "\n",
              "    .dataframe tbody tr th {\n",
              "        vertical-align: top;\n",
              "    }\n",
              "\n",
              "    .dataframe thead th {\n",
              "        text-align: right;\n",
              "    }\n",
              "</style>\n",
              "<table border=\"1\" class=\"dataframe\">\n",
              "  <thead>\n",
              "    <tr style=\"text-align: right;\">\n",
              "      <th></th>\n",
              "      <th>user</th>\n",
              "      <th>text</th>\n",
              "      <th>date</th>\n",
              "      <th>time</th>\n",
              "    </tr>\n",
              "  </thead>\n",
              "  <tbody>\n",
              "    <tr>\n",
              "      <th>0</th>\n",
              "      <td>Kate</td>\n",
              "      <td>Huge weekend of fixtures coming up! Man Utd v ...</td>\n",
              "      <td>2022-03-29</td>\n",
              "      <td>19:06:51</td>\n",
              "    </tr>\n",
              "    <tr>\n",
              "      <th>1</th>\n",
              "      <td>Steve Fred Brooker</td>\n",
              "      <td>Huge weekend of fixtures coming up! Man Utd v ...</td>\n",
              "      <td>2022-03-29</td>\n",
              "      <td>19:06:36</td>\n",
              "    </tr>\n",
              "    <tr>\n",
              "      <th>2</th>\n",
              "      <td>Edilton Silva 🇾🇪🇳🇬</td>\n",
              "      <td>Jürgen Klopp  Outfit Collection for #FIFA22 DL...</td>\n",
              "      <td>2022-03-29</td>\n",
              "      <td>19:04:39</td>\n",
              "    </tr>\n",
              "    <tr>\n",
              "      <th>3</th>\n",
              "      <td>michael hickey</td>\n",
              "      <td>As it's Marc Overmars' birthday today I though...</td>\n",
              "      <td>2022-03-29</td>\n",
              "      <td>19:04:16</td>\n",
              "    </tr>\n",
              "    <tr>\n",
              "      <th>4</th>\n",
              "      <td>ChernyVolk - The Outcast</td>\n",
              "      <td>Virtual Bundesliga ed ePremier League nel week...</td>\n",
              "      <td>2022-03-29</td>\n",
              "      <td>19:02:30</td>\n",
              "    </tr>\n",
              "  </tbody>\n",
              "</table>\n",
              "</div>"
            ],
            "text/plain": [
              "                       user  \\\n",
              "0                      Kate   \n",
              "1        Steve Fred Brooker   \n",
              "2        Edilton Silva 🇾🇪🇳🇬   \n",
              "3            michael hickey   \n",
              "4  ChernyVolk - The Outcast   \n",
              "\n",
              "                                                text        date      time  \n",
              "0  Huge weekend of fixtures coming up! Man Utd v ...  2022-03-29  19:06:51  \n",
              "1  Huge weekend of fixtures coming up! Man Utd v ...  2022-03-29  19:06:36  \n",
              "2  Jürgen Klopp  Outfit Collection for #FIFA22 DL...  2022-03-29  19:04:39  \n",
              "3  As it's Marc Overmars' birthday today I though...  2022-03-29  19:04:16  \n",
              "4  Virtual Bundesliga ed ePremier League nel week...  2022-03-29  19:02:30  "
            ]
          },
          "execution_count": 128,
          "metadata": {},
          "output_type": "execute_result"
        }
      ],
      "source": [
        "df_twitter.head(5)"
      ]
    },
    {
      "cell_type": "markdown",
      "metadata": {
        "id": "mELs65oMA_Pv"
      },
      "source": [
        "**Manage format time**"
      ]
    },
    {
      "cell_type": "code",
      "execution_count": 129,
      "metadata": {
        "colab": {
          "base_uri": "https://localhost:8080/",
          "height": 0
        },
        "id": "b_-goQQCBBrO",
        "outputId": "f1b53c58-ea94-42af-a41a-da729737e800"
      },
      "outputs": [
        {
          "data": {
            "text/html": [
              "<div>\n",
              "<style scoped>\n",
              "    .dataframe tbody tr th:only-of-type {\n",
              "        vertical-align: middle;\n",
              "    }\n",
              "\n",
              "    .dataframe tbody tr th {\n",
              "        vertical-align: top;\n",
              "    }\n",
              "\n",
              "    .dataframe thead th {\n",
              "        text-align: right;\n",
              "    }\n",
              "</style>\n",
              "<table border=\"1\" class=\"dataframe\">\n",
              "  <thead>\n",
              "    <tr style=\"text-align: right;\">\n",
              "      <th></th>\n",
              "      <th>user</th>\n",
              "      <th>text</th>\n",
              "      <th>date</th>\n",
              "      <th>time</th>\n",
              "    </tr>\n",
              "  </thead>\n",
              "  <tbody>\n",
              "    <tr>\n",
              "      <th>0</th>\n",
              "      <td>Brandon Doan</td>\n",
              "      <td>Real Madrid have surely lost Erling Haaland to...</td>\n",
              "      <td>2022-03-21</td>\n",
              "      <td>11:30:34</td>\n",
              "    </tr>\n",
              "    <tr>\n",
              "      <th>1</th>\n",
              "      <td>Phil Goaten ⁶₆⁷</td>\n",
              "      <td>Manchester City and Liverpool fans and face tr...</td>\n",
              "      <td>2022-03-21</td>\n",
              "      <td>11:34:16</td>\n",
              "    </tr>\n",
              "    <tr>\n",
              "      <th>2</th>\n",
              "      <td>Brandon Doan</td>\n",
              "      <td>Manchester City and Liverpool fans and face tr...</td>\n",
              "      <td>2022-03-21</td>\n",
              "      <td>11:34:25</td>\n",
              "    </tr>\n",
              "    <tr>\n",
              "      <th>3</th>\n",
              "      <td>Nedu2010</td>\n",
              "      <td>Getting Top 4 in the Premier League in 2022 is...</td>\n",
              "      <td>2022-03-21</td>\n",
              "      <td>11:34:35</td>\n",
              "    </tr>\n",
              "    <tr>\n",
              "      <th>4</th>\n",
              "      <td>Gabriel</td>\n",
              "      <td>Kevin De Bruyne: “I think the reaction was rea...</td>\n",
              "      <td>2022-03-21</td>\n",
              "      <td>11:35:05</td>\n",
              "    </tr>\n",
              "  </tbody>\n",
              "</table>\n",
              "</div>"
            ],
            "text/plain": [
              "              user                                               text  \\\n",
              "0     Brandon Doan  Real Madrid have surely lost Erling Haaland to...   \n",
              "1  Phil Goaten ⁶₆⁷  Manchester City and Liverpool fans and face tr...   \n",
              "2     Brandon Doan  Manchester City and Liverpool fans and face tr...   \n",
              "3         Nedu2010  Getting Top 4 in the Premier League in 2022 is...   \n",
              "4          Gabriel  Kevin De Bruyne: “I think the reaction was rea...   \n",
              "\n",
              "         date      time  \n",
              "0  2022-03-21  11:30:34  \n",
              "1  2022-03-21  11:34:16  \n",
              "2  2022-03-21  11:34:25  \n",
              "3  2022-03-21  11:34:35  \n",
              "4  2022-03-21  11:35:05  "
            ]
          },
          "execution_count": 129,
          "metadata": {},
          "output_type": "execute_result"
        }
      ],
      "source": [
        "# sort record by date.\n",
        "df_twitter = df_twitter.sort_values(by=[\"date\",\"time\"])\n",
        "df_twitter = df_twitter.reset_index()\n",
        "df_twitter = df_twitter.drop(\"index\",axis=1)\n",
        "df_twitter.head(5)"
      ]
    },
    {
      "cell_type": "markdown",
      "metadata": {
        "id": "wauDckJb6Umk"
      },
      "source": [
        "# Clean data from reddit."
      ]
    },
    {
      "cell_type": "markdown",
      "metadata": {
        "id": "mVeMKgiTPdG1"
      },
      "source": [
        "**Manage format of data.**"
      ]
    },
    {
      "cell_type": "code",
      "execution_count": 26,
      "metadata": {
        "id": "fyFzdjVGa4fo"
      },
      "outputs": [],
      "source": [
        "column = ['author','title','created_utc']\n",
        "df_reddit = df.loc[:,column]"
      ]
    },
    {
      "cell_type": "code",
      "execution_count": 27,
      "metadata": {
        "id": "E2nwlZ3nG20J"
      },
      "outputs": [],
      "source": [
        "df_reddit.columns = ['user','text','timedate']"
      ]
    },
    {
      "cell_type": "markdown",
      "metadata": {
        "id": "KyjeZIJEcCqx"
      },
      "source": [
        "**Check type data.**"
      ]
    },
    {
      "cell_type": "code",
      "execution_count": 28,
      "metadata": {
        "colab": {
          "base_uri": "https://localhost:8080/"
        },
        "id": "v_hBkCptNvkG",
        "outputId": "15a57722-6939-4164-aec1-6ff9cef0e46a"
      },
      "outputs": [
        {
          "data": {
            "text/plain": [
              "user        object\n",
              "text        object\n",
              "timedate    object\n",
              "dtype: object"
            ]
          },
          "execution_count": 28,
          "metadata": {},
          "output_type": "execute_result"
        }
      ],
      "source": [
        "df_reddit.dtypes"
      ]
    },
    {
      "cell_type": "markdown",
      "metadata": {
        "id": "Z2Rt4YjFVbcx"
      },
      "source": [
        "**Duplicate**"
      ]
    },
    {
      "cell_type": "code",
      "execution_count": 29,
      "metadata": {
        "colab": {
          "base_uri": "https://localhost:8080/"
        },
        "id": "ELIXmbcHYSjd",
        "outputId": "502100a0-3185-4893-dc6a-2b4acf5be934"
      },
      "outputs": [
        {
          "data": {
            "text/plain": [
              "0       False\n",
              "1       False\n",
              "2       False\n",
              "3       False\n",
              "4       False\n",
              "        ...  \n",
              "9995    False\n",
              "9996    False\n",
              "9997    False\n",
              "9998    False\n",
              "9999    False\n",
              "Length: 10000, dtype: bool"
            ]
          },
          "execution_count": 29,
          "metadata": {},
          "output_type": "execute_result"
        }
      ],
      "source": [
        "# manage duplicate\n",
        "df_reddit.duplicated()"
      ]
    },
    {
      "cell_type": "code",
      "execution_count": 30,
      "metadata": {
        "colab": {
          "base_uri": "https://localhost:8080/"
        },
        "id": "dnb0dRu5YoYc",
        "outputId": "eba584be-d6ec-416d-b3ab-55a3d8a70ff6"
      },
      "outputs": [
        {
          "name": "stdout",
          "output_type": "stream",
          "text": [
            "                    user                                               text  \\\n",
            "1132             Malino6  Question for opposition fans about where they ...   \n",
            "3695            ashstar1  Currently the Newcastle Vs United game isn't t...   \n",
            "3751  InnerAsparagus6045                       Rangers 2 year contract !!!!   \n",
            "4245      PremTipsterFPL  2 Points lost by both sides, City are the big ...   \n",
            "9300             2mas2nd                         Ballon dor Wikipedia troll   \n",
            "\n",
            "                 timedate  \n",
            "1132  2021-09-03 20:30:50  \n",
            "3695  2021-08-28 00:01:04  \n",
            "3751  2021-10-04 16:45:01  \n",
            "4245  2022-01-02 18:28:20  \n",
            "9300  2021-11-29 20:34:02  \n"
          ]
        }
      ],
      "source": [
        "# show duplicate\n",
        "print(df_reddit[df_reddit.duplicated()])"
      ]
    },
    {
      "cell_type": "code",
      "execution_count": 31,
      "metadata": {
        "colab": {
          "base_uri": "https://localhost:8080/"
        },
        "id": "QbAcANFdZH7O",
        "outputId": "320ab9b7-918f-4ef3-b1de-193c0bf0c4df"
      },
      "outputs": [
        {
          "name": "stdout",
          "output_type": "stream",
          "text": [
            "(10000, 3)\n",
            "(9995, 3)\n"
          ]
        }
      ],
      "source": [
        "# delete duplicate\n",
        "print(df_reddit.shape)\n",
        "df_reddit.drop_duplicates(inplace=True)\n",
        "print(df_reddit.shape)"
      ]
    },
    {
      "cell_type": "markdown",
      "metadata": {
        "id": "l4taNtoUZ4II"
      },
      "source": [
        "**Check data is null.**"
      ]
    },
    {
      "cell_type": "code",
      "execution_count": 32,
      "metadata": {
        "colab": {
          "base_uri": "https://localhost:8080/"
        },
        "id": "g86_bnATZXSR",
        "outputId": "e8642094-e3a0-4495-eccd-45a2e2ccfec6"
      },
      "outputs": [
        {
          "data": {
            "text/plain": [
              "user        0\n",
              "text        0\n",
              "timedate    0\n",
              "dtype: int64"
            ]
          },
          "execution_count": 32,
          "metadata": {},
          "output_type": "execute_result"
        }
      ],
      "source": [
        "# check data is null.\n",
        "df_reddit.isna().sum()"
      ]
    },
    {
      "cell_type": "markdown",
      "metadata": {
        "id": "UPe2pTleiyP7"
      },
      "source": [
        "**Clean data format \" https.. and @.. \".**\n",
        "\n",
        "Credit : P'Fang"
      ]
    },
    {
      "cell_type": "code",
      "execution_count": 33,
      "metadata": {
        "colab": {
          "base_uri": "https://localhost:8080/",
          "height": 0
        },
        "id": "w7qM2jSFezHL",
        "outputId": "eb96547d-f3fc-43b9-b704-a157240d875b"
      },
      "outputs": [
        {
          "data": {
            "text/html": [
              "<div>\n",
              "<style scoped>\n",
              "    .dataframe tbody tr th:only-of-type {\n",
              "        vertical-align: middle;\n",
              "    }\n",
              "\n",
              "    .dataframe tbody tr th {\n",
              "        vertical-align: top;\n",
              "    }\n",
              "\n",
              "    .dataframe thead th {\n",
              "        text-align: right;\n",
              "    }\n",
              "</style>\n",
              "<table border=\"1\" class=\"dataframe\">\n",
              "  <thead>\n",
              "    <tr style=\"text-align: right;\">\n",
              "      <th></th>\n",
              "      <th>user</th>\n",
              "      <th>text</th>\n",
              "      <th>timedate</th>\n",
              "    </tr>\n",
              "  </thead>\n",
              "  <tbody>\n",
              "    <tr>\n",
              "      <th>0</th>\n",
              "      <td>ashhennessy2</td>\n",
              "      <td>I drew a portrait of Mo Salah</td>\n",
              "      <td>2022-03-28 23:30:47</td>\n",
              "    </tr>\n",
              "    <tr>\n",
              "      <th>1</th>\n",
              "      <td>DCraig88</td>\n",
              "      <td>when your 1st choice striker doesn't exist</td>\n",
              "      <td>2022-03-28 23:01:14</td>\n",
              "    </tr>\n",
              "    <tr>\n",
              "      <th>2</th>\n",
              "      <td>MOTDish</td>\n",
              "      <td>Can Haaland and Mbappe become better than Mess...</td>\n",
              "      <td>2022-03-28 21:29:10</td>\n",
              "    </tr>\n",
              "    <tr>\n",
              "      <th>3</th>\n",
              "      <td>SwingingBacon289</td>\n",
              "      <td>Who do you think will win the League, Who will...</td>\n",
              "      <td>2022-03-28 20:48:19</td>\n",
              "    </tr>\n",
              "    <tr>\n",
              "      <th>4</th>\n",
              "      <td>TurnipPrize3746</td>\n",
              "      <td>does anyone know where I can find the tottenha...</td>\n",
              "      <td>2022-03-28 20:18:47</td>\n",
              "    </tr>\n",
              "  </tbody>\n",
              "</table>\n",
              "</div>"
            ],
            "text/plain": [
              "               user                                               text  \\\n",
              "0      ashhennessy2                      I drew a portrait of Mo Salah   \n",
              "1          DCraig88         when your 1st choice striker doesn't exist   \n",
              "2           MOTDish  Can Haaland and Mbappe become better than Mess...   \n",
              "3  SwingingBacon289  Who do you think will win the League, Who will...   \n",
              "4   TurnipPrize3746  does anyone know where I can find the tottenha...   \n",
              "\n",
              "              timedate  \n",
              "0  2022-03-28 23:30:47  \n",
              "1  2022-03-28 23:01:14  \n",
              "2  2022-03-28 21:29:10  \n",
              "3  2022-03-28 20:48:19  \n",
              "4  2022-03-28 20:18:47  "
            ]
          },
          "execution_count": 33,
          "metadata": {},
          "output_type": "execute_result"
        }
      ],
      "source": [
        "import re\n",
        "df_reddit[\"text\"] = df_reddit['text'].apply(lambda msg: re.sub(\"https*\\S+\", \" \", msg)).apply(lambda msg: re.sub(\"@\\S+\", \" \", msg)).apply(lambda msg: \" \".join(msg.split())) \n",
        "    \n",
        "df_reddit.head()"
      ]
    },
    {
      "cell_type": "markdown",
      "metadata": {
        "id": "ucEiWeQr9M7y"
      },
      "source": [
        "**Remove emoji in text.**\n",
        "\n",
        "Credit : [saaranshM](https://gist.github.com/slowkow/7a7f61f495e3dbb7e3d767f97bd7304b)"
      ]
    },
    {
      "cell_type": "code",
      "execution_count": 34,
      "metadata": {
        "colab": {
          "base_uri": "https://localhost:8080/",
          "height": 0
        },
        "id": "C_JwpiCp-plM",
        "outputId": "17718b78-049c-4d81-a38e-4c2d213bab97"
      },
      "outputs": [
        {
          "data": {
            "text/html": [
              "<div>\n",
              "<style scoped>\n",
              "    .dataframe tbody tr th:only-of-type {\n",
              "        vertical-align: middle;\n",
              "    }\n",
              "\n",
              "    .dataframe tbody tr th {\n",
              "        vertical-align: top;\n",
              "    }\n",
              "\n",
              "    .dataframe thead th {\n",
              "        text-align: right;\n",
              "    }\n",
              "</style>\n",
              "<table border=\"1\" class=\"dataframe\">\n",
              "  <thead>\n",
              "    <tr style=\"text-align: right;\">\n",
              "      <th></th>\n",
              "      <th>user</th>\n",
              "      <th>text</th>\n",
              "      <th>timedate</th>\n",
              "    </tr>\n",
              "  </thead>\n",
              "  <tbody>\n",
              "    <tr>\n",
              "      <th>0</th>\n",
              "      <td>ashhennessy2</td>\n",
              "      <td>I drew a portrait of Mo Salah</td>\n",
              "      <td>2022-03-28 23:30:47</td>\n",
              "    </tr>\n",
              "    <tr>\n",
              "      <th>1</th>\n",
              "      <td>DCraig88</td>\n",
              "      <td>when your 1st choice striker doesn't exist</td>\n",
              "      <td>2022-03-28 23:01:14</td>\n",
              "    </tr>\n",
              "    <tr>\n",
              "      <th>2</th>\n",
              "      <td>MOTDish</td>\n",
              "      <td>Can Haaland and Mbappe become better than Mess...</td>\n",
              "      <td>2022-03-28 21:29:10</td>\n",
              "    </tr>\n",
              "    <tr>\n",
              "      <th>3</th>\n",
              "      <td>SwingingBacon289</td>\n",
              "      <td>Who do you think will win the League, Who will...</td>\n",
              "      <td>2022-03-28 20:48:19</td>\n",
              "    </tr>\n",
              "    <tr>\n",
              "      <th>4</th>\n",
              "      <td>TurnipPrize3746</td>\n",
              "      <td>does anyone know where I can find the tottenha...</td>\n",
              "      <td>2022-03-28 20:18:47</td>\n",
              "    </tr>\n",
              "  </tbody>\n",
              "</table>\n",
              "</div>"
            ],
            "text/plain": [
              "               user                                               text  \\\n",
              "0      ashhennessy2                      I drew a portrait of Mo Salah   \n",
              "1          DCraig88         when your 1st choice striker doesn't exist   \n",
              "2           MOTDish  Can Haaland and Mbappe become better than Mess...   \n",
              "3  SwingingBacon289  Who do you think will win the League, Who will...   \n",
              "4   TurnipPrize3746  does anyone know where I can find the tottenha...   \n",
              "\n",
              "              timedate  \n",
              "0  2022-03-28 23:30:47  \n",
              "1  2022-03-28 23:01:14  \n",
              "2  2022-03-28 21:29:10  \n",
              "3  2022-03-28 20:48:19  \n",
              "4  2022-03-28 20:18:47  "
            ]
          },
          "execution_count": 34,
          "metadata": {},
          "output_type": "execute_result"
        }
      ],
      "source": [
        "df_reddit.head(5)"
      ]
    },
    {
      "cell_type": "code",
      "execution_count": 36,
      "metadata": {
        "id": "U-PIT_sY9oYT"
      },
      "outputs": [],
      "source": [
        "def removeEmoji(text):\n",
        "    re_pattern = re.compile(pattern = \"[\"\n",
        "                               u\"\\u2640-\\u2642\"\n",
        "                               u\"\\u2600-\\u2B55\"\n",
        "                               u\"\\u200d\"\n",
        "                               u\"\\u23cf\"\n",
        "                               u\"\\u23e9\"\n",
        "                               u\"\\u231a\"\n",
        "                               u\"\\ufe0f\"\n",
        "                               u\"\\u3030\"\n",
        "                               u\"\\U0001F600-\\U0001F64F\"  # Emoticons\n",
        "                               u\"\\U0001F300-\\U0001F5FF\"  # Symbols & pictographs\n",
        "                               u\"\\U0001F680-\\U0001F6FF\"  # Transport & map symbols\n",
        "                               u\"\\U0001F1E0-\\U0001F1FF\"  # Flags (iOS)\n",
        "                               u\"\\U00002500-\\U00002BEF\"  # Chinese char\n",
        "                               u\"\\U00002702-\\U000027B0\"\n",
        "                               u\"\\U00002702-\\U000027B0\"\n",
        "                               u\"\\U000024C2-\\U0001F251\"\n",
        "                               u\"\\U0001f926-\\U0001f937\"\n",
        "                               u\"\\U00010000-\\U0010ffff\"\n",
        "                               \"]+\", flags = re.UNICODE)\n",
        "    return re_pattern.sub(r'',text)\n",
        "\n",
        "ListNotEmoji = []\n",
        "for text in df_reddit[\"text\"]:\n",
        "  ListNotEmoji.append(removeEmoji(text))"
      ]
    },
    {
      "cell_type": "code",
      "execution_count": 37,
      "metadata": {
        "colab": {
          "base_uri": "https://localhost:8080/",
          "height": 0
        },
        "id": "tv1sGYKfAYQ_",
        "outputId": "012f7665-6013-41e5-9c99-58c314ac1f3c"
      },
      "outputs": [
        {
          "data": {
            "text/plain": [
              "'The question must be asked?😂😂🤔'"
            ]
          },
          "execution_count": 37,
          "metadata": {},
          "output_type": "execute_result"
        }
      ],
      "source": [
        "# before remove\n",
        "df_reddit[\"text\"][15]"
      ]
    },
    {
      "cell_type": "code",
      "execution_count": 38,
      "metadata": {
        "id": "oHJFrjXEBU_k"
      },
      "outputs": [],
      "source": [
        "# insert data of list not emoji in df_reddit[\"text\"];\n",
        "df_reddit[\"text\"] = ListNotEmoji"
      ]
    },
    {
      "cell_type": "code",
      "execution_count": 39,
      "metadata": {
        "colab": {
          "base_uri": "https://localhost:8080/",
          "height": 0
        },
        "id": "zEsrq9RMBYiL",
        "outputId": "5450b641-ec0d-4502-d849-13ae1ba41f31"
      },
      "outputs": [
        {
          "data": {
            "text/plain": [
              "'The question must be asked?'"
            ]
          },
          "execution_count": 39,
          "metadata": {},
          "output_type": "execute_result"
        }
      ],
      "source": [
        "# after remove.\n",
        "df_reddit[\"text\"][15]"
      ]
    },
    {
      "cell_type": "markdown",
      "metadata": {
        "id": "rZF_6T8OLw1y"
      },
      "source": [
        "**format time**"
      ]
    },
    {
      "cell_type": "code",
      "execution_count": 40,
      "metadata": {
        "colab": {
          "base_uri": "https://localhost:8080/",
          "height": 0
        },
        "id": "nIYA4FEzLskE",
        "outputId": "4e58288f-e7e0-4067-95df-38032dc200cf"
      },
      "outputs": [
        {
          "data": {
            "text/html": [
              "<div>\n",
              "<style scoped>\n",
              "    .dataframe tbody tr th:only-of-type {\n",
              "        vertical-align: middle;\n",
              "    }\n",
              "\n",
              "    .dataframe tbody tr th {\n",
              "        vertical-align: top;\n",
              "    }\n",
              "\n",
              "    .dataframe thead th {\n",
              "        text-align: right;\n",
              "    }\n",
              "</style>\n",
              "<table border=\"1\" class=\"dataframe\">\n",
              "  <thead>\n",
              "    <tr style=\"text-align: right;\">\n",
              "      <th></th>\n",
              "      <th>user</th>\n",
              "      <th>text</th>\n",
              "      <th>date</th>\n",
              "      <th>time</th>\n",
              "    </tr>\n",
              "  </thead>\n",
              "  <tbody>\n",
              "    <tr>\n",
              "      <th>0</th>\n",
              "      <td>ashhennessy2</td>\n",
              "      <td>I drew a portrait of Mo Salah</td>\n",
              "      <td>2022-03-28</td>\n",
              "      <td>23:30:47</td>\n",
              "    </tr>\n",
              "    <tr>\n",
              "      <th>1</th>\n",
              "      <td>DCraig88</td>\n",
              "      <td>when your 1st choice striker doesn't exist</td>\n",
              "      <td>2022-03-28</td>\n",
              "      <td>23:01:14</td>\n",
              "    </tr>\n",
              "    <tr>\n",
              "      <th>2</th>\n",
              "      <td>MOTDish</td>\n",
              "      <td>Can Haaland and Mbappe become better than Mess...</td>\n",
              "      <td>2022-03-28</td>\n",
              "      <td>21:29:10</td>\n",
              "    </tr>\n",
              "    <tr>\n",
              "      <th>3</th>\n",
              "      <td>SwingingBacon289</td>\n",
              "      <td>Who do you think will win the League, Who will...</td>\n",
              "      <td>2022-03-28</td>\n",
              "      <td>20:48:19</td>\n",
              "    </tr>\n",
              "    <tr>\n",
              "      <th>4</th>\n",
              "      <td>TurnipPrize3746</td>\n",
              "      <td>does anyone know where I can find the tottenha...</td>\n",
              "      <td>2022-03-28</td>\n",
              "      <td>20:18:47</td>\n",
              "    </tr>\n",
              "  </tbody>\n",
              "</table>\n",
              "</div>"
            ],
            "text/plain": [
              "               user                                               text  \\\n",
              "0      ashhennessy2                      I drew a portrait of Mo Salah   \n",
              "1          DCraig88         when your 1st choice striker doesn't exist   \n",
              "2           MOTDish  Can Haaland and Mbappe become better than Mess...   \n",
              "3  SwingingBacon289  Who do you think will win the League, Who will...   \n",
              "4   TurnipPrize3746  does anyone know where I can find the tottenha...   \n",
              "\n",
              "         date      time  \n",
              "0  2022-03-28  23:30:47  \n",
              "1  2022-03-28  23:01:14  \n",
              "2  2022-03-28  21:29:10  \n",
              "3  2022-03-28  20:48:19  \n",
              "4  2022-03-28  20:18:47  "
            ]
          },
          "execution_count": 40,
          "metadata": {},
          "output_type": "execute_result"
        }
      ],
      "source": [
        "new = df_reddit[\"timedate\"].str.split(' ', n = 1, expand = True) \n",
        "df_reddit[\"date\"] = new[0]\n",
        "df_reddit [\"time\"] = new[1]\n",
        "df_reddit = df_reddit.drop('timedate',axis=1)\n",
        "df_reddit.head(5)"
      ]
    },
    {
      "cell_type": "code",
      "execution_count": 41,
      "metadata": {
        "colab": {
          "base_uri": "https://localhost:8080/",
          "height": 0
        },
        "id": "uvmbU3BYd1R9",
        "outputId": "a1f1daf6-0ea5-4e86-c35a-43758adb9f9c"
      },
      "outputs": [
        {
          "data": {
            "text/html": [
              "<div>\n",
              "<style scoped>\n",
              "    .dataframe tbody tr th:only-of-type {\n",
              "        vertical-align: middle;\n",
              "    }\n",
              "\n",
              "    .dataframe tbody tr th {\n",
              "        vertical-align: top;\n",
              "    }\n",
              "\n",
              "    .dataframe thead th {\n",
              "        text-align: right;\n",
              "    }\n",
              "</style>\n",
              "<table border=\"1\" class=\"dataframe\">\n",
              "  <thead>\n",
              "    <tr style=\"text-align: right;\">\n",
              "      <th></th>\n",
              "      <th>user</th>\n",
              "      <th>text</th>\n",
              "      <th>date</th>\n",
              "      <th>time</th>\n",
              "    </tr>\n",
              "  </thead>\n",
              "  <tbody>\n",
              "    <tr>\n",
              "      <th>0</th>\n",
              "      <td>Spursfan-Coys</td>\n",
              "      <td>For those of you that say Chelsea fans aren’t ...</td>\n",
              "      <td>2021-08-01</td>\n",
              "      <td>00:01:03</td>\n",
              "    </tr>\n",
              "    <tr>\n",
              "      <th>1</th>\n",
              "      <td>AutoModerator</td>\n",
              "      <td>r/PremierLeague Daily Discussion</td>\n",
              "      <td>2021-08-01</td>\n",
              "      <td>04:00:26</td>\n",
              "    </tr>\n",
              "    <tr>\n",
              "      <th>2</th>\n",
              "      <td>Willpowers1200</td>\n",
              "      <td>Is mikel areteta the right answer for Arsenal ...</td>\n",
              "      <td>2021-08-01</td>\n",
              "      <td>04:03:18</td>\n",
              "    </tr>\n",
              "    <tr>\n",
              "      <th>3</th>\n",
              "      <td>fatesgift</td>\n",
              "      <td>[The Athletic] Arsenal consider signing Lautar...</td>\n",
              "      <td>2021-08-01</td>\n",
              "      <td>04:20:30</td>\n",
              "    </tr>\n",
              "    <tr>\n",
              "      <th>4</th>\n",
              "      <td>Purpledoodlesx</td>\n",
              "      <td>What’s the opinion of Villa fans on here on Gr...</td>\n",
              "      <td>2021-08-01</td>\n",
              "      <td>05:54:32</td>\n",
              "    </tr>\n",
              "  </tbody>\n",
              "</table>\n",
              "</div>"
            ],
            "text/plain": [
              "             user                                               text  \\\n",
              "0   Spursfan-Coys  For those of you that say Chelsea fans aren’t ...   \n",
              "1   AutoModerator                   r/PremierLeague Daily Discussion   \n",
              "2  Willpowers1200  Is mikel areteta the right answer for Arsenal ...   \n",
              "3       fatesgift  [The Athletic] Arsenal consider signing Lautar...   \n",
              "4  Purpledoodlesx  What’s the opinion of Villa fans on here on Gr...   \n",
              "\n",
              "         date      time  \n",
              "0  2021-08-01  00:01:03  \n",
              "1  2021-08-01  04:00:26  \n",
              "2  2021-08-01  04:03:18  \n",
              "3  2021-08-01  04:20:30  \n",
              "4  2021-08-01  05:54:32  "
            ]
          },
          "execution_count": 41,
          "metadata": {},
          "output_type": "execute_result"
        }
      ],
      "source": [
        "# sort record by date.\n",
        "df_reddit = df_reddit.sort_values(by=[\"date\",\"time\"])\n",
        "df_reddit = df_reddit.reset_index()\n",
        "df_reddit = df_reddit.drop(\"index\",axis=1)\n",
        "df_reddit.head(5)"
      ]
    },
    {
      "cell_type": "markdown",
      "metadata": {
        "id": "zukFNOwvZ82J"
      },
      "source": [
        "# EDA (Global Properties)"
      ]
    },
    {
      "cell_type": "markdown",
      "metadata": {
        "id": "FCIbhrI49qIu"
      },
      "source": [
        "### Reddit"
      ]
    },
    {
      "cell_type": "code",
      "execution_count": 42,
      "metadata": {
        "colab": {
          "base_uri": "https://localhost:8080/",
          "height": 206
        },
        "id": "JGsQCVuAfyST",
        "outputId": "9110894f-3a2e-46c9-a781-fc58e0e79336"
      },
      "outputs": [
        {
          "data": {
            "text/html": [
              "<div>\n",
              "<style scoped>\n",
              "    .dataframe tbody tr th:only-of-type {\n",
              "        vertical-align: middle;\n",
              "    }\n",
              "\n",
              "    .dataframe tbody tr th {\n",
              "        vertical-align: top;\n",
              "    }\n",
              "\n",
              "    .dataframe thead th {\n",
              "        text-align: right;\n",
              "    }\n",
              "</style>\n",
              "<table border=\"1\" class=\"dataframe\">\n",
              "  <thead>\n",
              "    <tr style=\"text-align: right;\">\n",
              "      <th></th>\n",
              "      <th>user</th>\n",
              "      <th>text</th>\n",
              "      <th>date</th>\n",
              "      <th>time</th>\n",
              "    </tr>\n",
              "  </thead>\n",
              "  <tbody>\n",
              "    <tr>\n",
              "      <th>0</th>\n",
              "      <td>Spursfan-Coys</td>\n",
              "      <td>For those of you that say Chelsea fans aren’t ...</td>\n",
              "      <td>2021-08-01</td>\n",
              "      <td>00:01:03</td>\n",
              "    </tr>\n",
              "    <tr>\n",
              "      <th>1</th>\n",
              "      <td>AutoModerator</td>\n",
              "      <td>r/PremierLeague Daily Discussion</td>\n",
              "      <td>2021-08-01</td>\n",
              "      <td>04:00:26</td>\n",
              "    </tr>\n",
              "    <tr>\n",
              "      <th>2</th>\n",
              "      <td>Willpowers1200</td>\n",
              "      <td>Is mikel areteta the right answer for Arsenal ...</td>\n",
              "      <td>2021-08-01</td>\n",
              "      <td>04:03:18</td>\n",
              "    </tr>\n",
              "    <tr>\n",
              "      <th>3</th>\n",
              "      <td>fatesgift</td>\n",
              "      <td>[The Athletic] Arsenal consider signing Lautar...</td>\n",
              "      <td>2021-08-01</td>\n",
              "      <td>04:20:30</td>\n",
              "    </tr>\n",
              "    <tr>\n",
              "      <th>4</th>\n",
              "      <td>Purpledoodlesx</td>\n",
              "      <td>What’s the opinion of Villa fans on here on Gr...</td>\n",
              "      <td>2021-08-01</td>\n",
              "      <td>05:54:32</td>\n",
              "    </tr>\n",
              "  </tbody>\n",
              "</table>\n",
              "</div>"
            ],
            "text/plain": [
              "             user                                               text  \\\n",
              "0   Spursfan-Coys  For those of you that say Chelsea fans aren’t ...   \n",
              "1   AutoModerator                   r/PremierLeague Daily Discussion   \n",
              "2  Willpowers1200  Is mikel areteta the right answer for Arsenal ...   \n",
              "3       fatesgift  [The Athletic] Arsenal consider signing Lautar...   \n",
              "4  Purpledoodlesx  What’s the opinion of Villa fans on here on Gr...   \n",
              "\n",
              "         date      time  \n",
              "0  2021-08-01  00:01:03  \n",
              "1  2021-08-01  04:00:26  \n",
              "2  2021-08-01  04:03:18  \n",
              "3  2021-08-01  04:20:30  \n",
              "4  2021-08-01  05:54:32  "
            ]
          },
          "execution_count": 42,
          "metadata": {},
          "output_type": "execute_result"
        }
      ],
      "source": [
        "# head\n",
        "df_reddit.head(5)"
      ]
    },
    {
      "cell_type": "code",
      "execution_count": 43,
      "metadata": {
        "colab": {
          "base_uri": "https://localhost:8080/",
          "height": 423
        },
        "id": "yrFWzwhM23w9",
        "outputId": "c9362389-af70-4f76-949a-c39dfbc5afec"
      },
      "outputs": [
        {
          "data": {
            "text/html": [
              "<div>\n",
              "<style scoped>\n",
              "    .dataframe tbody tr th:only-of-type {\n",
              "        vertical-align: middle;\n",
              "    }\n",
              "\n",
              "    .dataframe tbody tr th {\n",
              "        vertical-align: top;\n",
              "    }\n",
              "\n",
              "    .dataframe thead th {\n",
              "        text-align: right;\n",
              "    }\n",
              "</style>\n",
              "<table border=\"1\" class=\"dataframe\">\n",
              "  <thead>\n",
              "    <tr style=\"text-align: right;\">\n",
              "      <th></th>\n",
              "      <th>user</th>\n",
              "      <th>text</th>\n",
              "      <th>date</th>\n",
              "      <th>time</th>\n",
              "    </tr>\n",
              "  </thead>\n",
              "  <tbody>\n",
              "    <tr>\n",
              "      <th>9695</th>\n",
              "      <td>Cute_Dragonfly_4728</td>\n",
              "      <td>What are all the “Come On You ____ “ for the P...</td>\n",
              "      <td>2022-03-20</td>\n",
              "      <td>12:51:56</td>\n",
              "    </tr>\n",
              "    <tr>\n",
              "      <th>9696</th>\n",
              "      <td>MatchCaster</td>\n",
              "      <td>[Match thread] Leicester vs Brentford</td>\n",
              "      <td>2022-03-20</td>\n",
              "      <td>13:15:49</td>\n",
              "    </tr>\n",
              "    <tr>\n",
              "      <th>9697</th>\n",
              "      <td>coronakashooter</td>\n",
              "      <td>Athletic apk</td>\n",
              "      <td>2022-03-20</td>\n",
              "      <td>14:02:13</td>\n",
              "    </tr>\n",
              "    <tr>\n",
              "      <th>9698</th>\n",
              "      <td>Emenfn</td>\n",
              "      <td>Who has the best chance of becoming the 7th to...</td>\n",
              "      <td>2022-03-20</td>\n",
              "      <td>14:20:26</td>\n",
              "    </tr>\n",
              "    <tr>\n",
              "      <th>9699</th>\n",
              "      <td>Iennda</td>\n",
              "      <td>Everton under Lampard</td>\n",
              "      <td>2022-03-20</td>\n",
              "      <td>14:26:53</td>\n",
              "    </tr>\n",
              "    <tr>\n",
              "      <th>...</th>\n",
              "      <td>...</td>\n",
              "      <td>...</td>\n",
              "      <td>...</td>\n",
              "      <td>...</td>\n",
              "    </tr>\n",
              "    <tr>\n",
              "      <th>9990</th>\n",
              "      <td>TurnipPrize3746</td>\n",
              "      <td>does anyone know where I can find the tottenha...</td>\n",
              "      <td>2022-03-28</td>\n",
              "      <td>20:18:47</td>\n",
              "    </tr>\n",
              "    <tr>\n",
              "      <th>9991</th>\n",
              "      <td>SwingingBacon289</td>\n",
              "      <td>Who do you think will win the League, Who will...</td>\n",
              "      <td>2022-03-28</td>\n",
              "      <td>20:48:19</td>\n",
              "    </tr>\n",
              "    <tr>\n",
              "      <th>9992</th>\n",
              "      <td>MOTDish</td>\n",
              "      <td>Can Haaland and Mbappe become better than Mess...</td>\n",
              "      <td>2022-03-28</td>\n",
              "      <td>21:29:10</td>\n",
              "    </tr>\n",
              "    <tr>\n",
              "      <th>9993</th>\n",
              "      <td>DCraig88</td>\n",
              "      <td>when your 1st choice striker doesn't exist</td>\n",
              "      <td>2022-03-28</td>\n",
              "      <td>23:01:14</td>\n",
              "    </tr>\n",
              "    <tr>\n",
              "      <th>9994</th>\n",
              "      <td>ashhennessy2</td>\n",
              "      <td>I drew a portrait of Mo Salah</td>\n",
              "      <td>2022-03-28</td>\n",
              "      <td>23:30:47</td>\n",
              "    </tr>\n",
              "  </tbody>\n",
              "</table>\n",
              "<p>300 rows × 4 columns</p>\n",
              "</div>"
            ],
            "text/plain": [
              "                     user                                               text  \\\n",
              "9695  Cute_Dragonfly_4728  What are all the “Come On You ____ “ for the P...   \n",
              "9696          MatchCaster              [Match thread] Leicester vs Brentford   \n",
              "9697      coronakashooter                                       Athletic apk   \n",
              "9698               Emenfn  Who has the best chance of becoming the 7th to...   \n",
              "9699               Iennda                              Everton under Lampard   \n",
              "...                   ...                                                ...   \n",
              "9990      TurnipPrize3746  does anyone know where I can find the tottenha...   \n",
              "9991     SwingingBacon289  Who do you think will win the League, Who will...   \n",
              "9992              MOTDish  Can Haaland and Mbappe become better than Mess...   \n",
              "9993             DCraig88         when your 1st choice striker doesn't exist   \n",
              "9994         ashhennessy2                      I drew a portrait of Mo Salah   \n",
              "\n",
              "            date      time  \n",
              "9695  2022-03-20  12:51:56  \n",
              "9696  2022-03-20  13:15:49  \n",
              "9697  2022-03-20  14:02:13  \n",
              "9698  2022-03-20  14:20:26  \n",
              "9699  2022-03-20  14:26:53  \n",
              "...          ...       ...  \n",
              "9990  2022-03-28  20:18:47  \n",
              "9991  2022-03-28  20:48:19  \n",
              "9992  2022-03-28  21:29:10  \n",
              "9993  2022-03-28  23:01:14  \n",
              "9994  2022-03-28  23:30:47  \n",
              "\n",
              "[300 rows x 4 columns]"
            ]
          },
          "execution_count": 43,
          "metadata": {},
          "output_type": "execute_result"
        }
      ],
      "source": [
        "# tail 9727\n",
        "df_reddit.tail(300)"
      ]
    },
    {
      "cell_type": "code",
      "execution_count": 44,
      "metadata": {
        "colab": {
          "base_uri": "https://localhost:8080/"
        },
        "id": "_6GQVas-7f8o",
        "outputId": "05ed81fa-127a-4336-8782-a0a9c0f3fefa"
      },
      "outputs": [
        {
          "data": {
            "text/plain": [
              "(9995, 4)"
            ]
          },
          "execution_count": 44,
          "metadata": {},
          "output_type": "execute_result"
        }
      ],
      "source": [
        "# shape\n",
        "df_reddit.shape"
      ]
    },
    {
      "cell_type": "code",
      "execution_count": 45,
      "metadata": {
        "colab": {
          "base_uri": "https://localhost:8080/"
        },
        "id": "loQcQV0y7iev",
        "outputId": "003481f4-4476-43d3-c195-747344ba69b1"
      },
      "outputs": [
        {
          "name": "stdout",
          "output_type": "stream",
          "text": [
            "<class 'pandas.core.frame.DataFrame'>\n",
            "RangeIndex: 9995 entries, 0 to 9994\n",
            "Data columns (total 4 columns):\n",
            " #   Column  Non-Null Count  Dtype \n",
            "---  ------  --------------  ----- \n",
            " 0   user    9995 non-null   object\n",
            " 1   text    9995 non-null   object\n",
            " 2   date    9995 non-null   object\n",
            " 3   time    9995 non-null   object\n",
            "dtypes: object(4)\n",
            "memory usage: 312.5+ KB\n"
          ]
        }
      ],
      "source": [
        "# info\n",
        "df_reddit.info()"
      ]
    },
    {
      "cell_type": "markdown",
      "metadata": {
        "id": "XLQa325KKSIn"
      },
      "source": [
        "**วันที่ผู้คนโพสต์มากที่สุด ของ Reddit โดยผ่าน key \"Premier league\"** "
      ]
    },
    {
      "cell_type": "code",
      "execution_count": null,
      "metadata": {
        "colab": {
          "base_uri": "https://localhost:8080/",
          "height": 1000
        },
        "id": "gg3Khs4cIXmG",
        "outputId": "ced527d2-4595-4c6e-cec3-99e4fd7b94f0"
      },
      "outputs": [],
      "source": [
        "pd.set_option('display.max_rows', df_reddit.shape[0]+1)\n",
        "df_reddit"
      ]
    },
    {
      "cell_type": "code",
      "execution_count": 48,
      "metadata": {
        "id": "jous7mLjjC-6"
      },
      "outputs": [],
      "source": [
        "MostTimeToPostInReddit = df_reddit['date'].value_counts().sort_index().reset_index()\n",
        "MostTimeToPostInReddit.columns = ['Date','Count']\n",
        "MostTimeToPostInReddit = MostTimeToPostInReddit.sort_values(by=['Count'],ignore_index=True,ascending=False)"
      ]
    },
    {
      "cell_type": "code",
      "execution_count": 49,
      "metadata": {
        "colab": {
          "base_uri": "https://localhost:8080/",
          "height": 363
        },
        "id": "WSos2WcKkAQh",
        "outputId": "dee7a1de-0401-4fdb-b983-8978fb399e99"
      },
      "outputs": [
        {
          "data": {
            "text/html": [
              "<div>\n",
              "<style scoped>\n",
              "    .dataframe tbody tr th:only-of-type {\n",
              "        vertical-align: middle;\n",
              "    }\n",
              "\n",
              "    .dataframe tbody tr th {\n",
              "        vertical-align: top;\n",
              "    }\n",
              "\n",
              "    .dataframe thead th {\n",
              "        text-align: right;\n",
              "    }\n",
              "</style>\n",
              "<table border=\"1\" class=\"dataframe\">\n",
              "  <thead>\n",
              "    <tr style=\"text-align: right;\">\n",
              "      <th></th>\n",
              "      <th>Date</th>\n",
              "      <th>Count</th>\n",
              "    </tr>\n",
              "  </thead>\n",
              "  <tbody>\n",
              "    <tr>\n",
              "      <th>0</th>\n",
              "      <td>2021-08-13</td>\n",
              "      <td>113</td>\n",
              "    </tr>\n",
              "    <tr>\n",
              "      <th>1</th>\n",
              "      <td>2021-08-27</td>\n",
              "      <td>105</td>\n",
              "    </tr>\n",
              "    <tr>\n",
              "      <th>2</th>\n",
              "      <td>2021-08-15</td>\n",
              "      <td>103</td>\n",
              "    </tr>\n",
              "    <tr>\n",
              "      <th>3</th>\n",
              "      <td>2021-08-28</td>\n",
              "      <td>95</td>\n",
              "    </tr>\n",
              "    <tr>\n",
              "      <th>4</th>\n",
              "      <td>2022-01-01</td>\n",
              "      <td>91</td>\n",
              "    </tr>\n",
              "    <tr>\n",
              "      <th>5</th>\n",
              "      <td>2021-08-05</td>\n",
              "      <td>90</td>\n",
              "    </tr>\n",
              "    <tr>\n",
              "      <th>6</th>\n",
              "      <td>2021-10-24</td>\n",
              "      <td>89</td>\n",
              "    </tr>\n",
              "    <tr>\n",
              "      <th>7</th>\n",
              "      <td>2022-02-26</td>\n",
              "      <td>87</td>\n",
              "    </tr>\n",
              "    <tr>\n",
              "      <th>8</th>\n",
              "      <td>2021-09-11</td>\n",
              "      <td>86</td>\n",
              "    </tr>\n",
              "    <tr>\n",
              "      <th>9</th>\n",
              "      <td>2021-08-10</td>\n",
              "      <td>82</td>\n",
              "    </tr>\n",
              "  </tbody>\n",
              "</table>\n",
              "</div>"
            ],
            "text/plain": [
              "         Date  Count\n",
              "0  2021-08-13    113\n",
              "1  2021-08-27    105\n",
              "2  2021-08-15    103\n",
              "3  2021-08-28     95\n",
              "4  2022-01-01     91\n",
              "5  2021-08-05     90\n",
              "6  2021-10-24     89\n",
              "7  2022-02-26     87\n",
              "8  2021-09-11     86\n",
              "9  2021-08-10     82"
            ]
          },
          "execution_count": 49,
          "metadata": {},
          "output_type": "execute_result"
        }
      ],
      "source": [
        "MostTimeToPostInReddit.head(10)"
      ]
    },
    {
      "cell_type": "markdown",
      "metadata": {
        "id": "nVajCnA49v9j"
      },
      "source": [
        "### Twitter"
      ]
    },
    {
      "cell_type": "code",
      "execution_count": 130,
      "metadata": {
        "colab": {
          "base_uri": "https://localhost:8080/",
          "height": 0
        },
        "id": "IceNWxtg9v9k",
        "outputId": "62098cbf-5dc9-4031-f6fb-f8d4b295b49f"
      },
      "outputs": [
        {
          "data": {
            "text/html": [
              "<div>\n",
              "<style scoped>\n",
              "    .dataframe tbody tr th:only-of-type {\n",
              "        vertical-align: middle;\n",
              "    }\n",
              "\n",
              "    .dataframe tbody tr th {\n",
              "        vertical-align: top;\n",
              "    }\n",
              "\n",
              "    .dataframe thead th {\n",
              "        text-align: right;\n",
              "    }\n",
              "</style>\n",
              "<table border=\"1\" class=\"dataframe\">\n",
              "  <thead>\n",
              "    <tr style=\"text-align: right;\">\n",
              "      <th></th>\n",
              "      <th>user</th>\n",
              "      <th>text</th>\n",
              "      <th>date</th>\n",
              "      <th>time</th>\n",
              "    </tr>\n",
              "  </thead>\n",
              "  <tbody>\n",
              "    <tr>\n",
              "      <th>0</th>\n",
              "      <td>Brandon Doan</td>\n",
              "      <td>Real Madrid have surely lost Erling Haaland to...</td>\n",
              "      <td>2022-03-21</td>\n",
              "      <td>11:30:34</td>\n",
              "    </tr>\n",
              "    <tr>\n",
              "      <th>1</th>\n",
              "      <td>Phil Goaten ⁶₆⁷</td>\n",
              "      <td>Manchester City and Liverpool fans and face tr...</td>\n",
              "      <td>2022-03-21</td>\n",
              "      <td>11:34:16</td>\n",
              "    </tr>\n",
              "    <tr>\n",
              "      <th>2</th>\n",
              "      <td>Brandon Doan</td>\n",
              "      <td>Manchester City and Liverpool fans and face tr...</td>\n",
              "      <td>2022-03-21</td>\n",
              "      <td>11:34:25</td>\n",
              "    </tr>\n",
              "    <tr>\n",
              "      <th>3</th>\n",
              "      <td>Nedu2010</td>\n",
              "      <td>Getting Top 4 in the Premier League in 2022 is...</td>\n",
              "      <td>2022-03-21</td>\n",
              "      <td>11:34:35</td>\n",
              "    </tr>\n",
              "    <tr>\n",
              "      <th>4</th>\n",
              "      <td>Gabriel</td>\n",
              "      <td>Kevin De Bruyne: “I think the reaction was rea...</td>\n",
              "      <td>2022-03-21</td>\n",
              "      <td>11:35:05</td>\n",
              "    </tr>\n",
              "  </tbody>\n",
              "</table>\n",
              "</div>"
            ],
            "text/plain": [
              "              user                                               text  \\\n",
              "0     Brandon Doan  Real Madrid have surely lost Erling Haaland to...   \n",
              "1  Phil Goaten ⁶₆⁷  Manchester City and Liverpool fans and face tr...   \n",
              "2     Brandon Doan  Manchester City and Liverpool fans and face tr...   \n",
              "3         Nedu2010  Getting Top 4 in the Premier League in 2022 is...   \n",
              "4          Gabriel  Kevin De Bruyne: “I think the reaction was rea...   \n",
              "\n",
              "         date      time  \n",
              "0  2022-03-21  11:30:34  \n",
              "1  2022-03-21  11:34:16  \n",
              "2  2022-03-21  11:34:25  \n",
              "3  2022-03-21  11:34:35  \n",
              "4  2022-03-21  11:35:05  "
            ]
          },
          "execution_count": 130,
          "metadata": {},
          "output_type": "execute_result"
        }
      ],
      "source": [
        "# head\n",
        "df_twitter.head(5)"
      ]
    },
    {
      "cell_type": "code",
      "execution_count": 131,
      "metadata": {
        "colab": {
          "base_uri": "https://localhost:8080/",
          "height": 0
        },
        "id": "7OCcVajW9v9k",
        "outputId": "f2261de2-848c-4b41-c86b-b4cd4f9acdb0"
      },
      "outputs": [
        {
          "data": {
            "text/html": [
              "<div>\n",
              "<style scoped>\n",
              "    .dataframe tbody tr th:only-of-type {\n",
              "        vertical-align: middle;\n",
              "    }\n",
              "\n",
              "    .dataframe tbody tr th {\n",
              "        vertical-align: top;\n",
              "    }\n",
              "\n",
              "    .dataframe thead th {\n",
              "        text-align: right;\n",
              "    }\n",
              "</style>\n",
              "<table border=\"1\" class=\"dataframe\">\n",
              "  <thead>\n",
              "    <tr style=\"text-align: right;\">\n",
              "      <th></th>\n",
              "      <th>user</th>\n",
              "      <th>text</th>\n",
              "      <th>date</th>\n",
              "      <th>time</th>\n",
              "    </tr>\n",
              "  </thead>\n",
              "  <tbody>\n",
              "    <tr>\n",
              "      <th>9150</th>\n",
              "      <td>FootyZone.net</td>\n",
              "      <td>CHOOSE YOUR TEAM  Welcome to the league #AAVE ...</td>\n",
              "      <td>2022-03-29</td>\n",
              "      <td>19:10:42</td>\n",
              "    </tr>\n",
              "    <tr>\n",
              "      <th>9151</th>\n",
              "      <td>Local Prizes</td>\n",
              "      <td>Huge weekend of fixtures coming up! Man Utd v ...</td>\n",
              "      <td>2022-03-29</td>\n",
              "      <td>19:11:03</td>\n",
              "    </tr>\n",
              "    <tr>\n",
              "      <th>9152</th>\n",
              "      <td>Igor</td>\n",
              "      <td>Man United vs Leicester city X2 ticket availab...</td>\n",
              "      <td>2022-03-29</td>\n",
              "      <td>19:11:06</td>\n",
              "    </tr>\n",
              "    <tr>\n",
              "      <th>9153</th>\n",
              "      <td>1xbet promo code: TAHMINBAHIS</td>\n",
              "      <td>#love #twitterers #smile #picoftheday #follow ...</td>\n",
              "      <td>2022-03-29</td>\n",
              "      <td>19:12:00</td>\n",
              "    </tr>\n",
              "    <tr>\n",
              "      <th>9154</th>\n",
              "      <td>Pablo Ureña</td>\n",
              "      <td>Huge weekend of fixtures coming up! Man Utd v ...</td>\n",
              "      <td>2022-03-29</td>\n",
              "      <td>19:13:47</td>\n",
              "    </tr>\n",
              "  </tbody>\n",
              "</table>\n",
              "</div>"
            ],
            "text/plain": [
              "                               user  \\\n",
              "9150                  FootyZone.net   \n",
              "9151                   Local Prizes   \n",
              "9152                           Igor   \n",
              "9153  1xbet promo code: TAHMINBAHIS   \n",
              "9154                    Pablo Ureña   \n",
              "\n",
              "                                                   text        date      time  \n",
              "9150  CHOOSE YOUR TEAM  Welcome to the league #AAVE ...  2022-03-29  19:10:42  \n",
              "9151  Huge weekend of fixtures coming up! Man Utd v ...  2022-03-29  19:11:03  \n",
              "9152  Man United vs Leicester city X2 ticket availab...  2022-03-29  19:11:06  \n",
              "9153  #love #twitterers #smile #picoftheday #follow ...  2022-03-29  19:12:00  \n",
              "9154  Huge weekend of fixtures coming up! Man Utd v ...  2022-03-29  19:13:47  "
            ]
          },
          "execution_count": 131,
          "metadata": {},
          "output_type": "execute_result"
        }
      ],
      "source": [
        "df_twitter.tail(5)"
      ]
    },
    {
      "cell_type": "code",
      "execution_count": 132,
      "metadata": {
        "colab": {
          "base_uri": "https://localhost:8080/"
        },
        "id": "sTJ5aNrc9v9k",
        "outputId": "cbec1ef4-0e0c-4d88-d662-dd81126a2132"
      },
      "outputs": [
        {
          "data": {
            "text/plain": [
              "(9155, 4)"
            ]
          },
          "execution_count": 132,
          "metadata": {},
          "output_type": "execute_result"
        }
      ],
      "source": [
        "# shape\n",
        "df_twitter.shape"
      ]
    },
    {
      "cell_type": "code",
      "execution_count": 133,
      "metadata": {
        "colab": {
          "base_uri": "https://localhost:8080/"
        },
        "id": "QKNfagm59v9k",
        "outputId": "3db8da83-d7a9-4be5-ab4e-00560839027c"
      },
      "outputs": [
        {
          "name": "stdout",
          "output_type": "stream",
          "text": [
            "<class 'pandas.core.frame.DataFrame'>\n",
            "RangeIndex: 9155 entries, 0 to 9154\n",
            "Data columns (total 4 columns):\n",
            " #   Column  Non-Null Count  Dtype \n",
            "---  ------  --------------  ----- \n",
            " 0   user    9155 non-null   object\n",
            " 1   text    9155 non-null   object\n",
            " 2   date    9155 non-null   object\n",
            " 3   time    9155 non-null   object\n",
            "dtypes: object(4)\n",
            "memory usage: 286.2+ KB\n"
          ]
        }
      ],
      "source": [
        "# info\n",
        "df_twitter.info()"
      ]
    },
    {
      "cell_type": "markdown",
      "metadata": {
        "id": "4-dpXAPV9v9k"
      },
      "source": [
        "**วันที่ผู้คนโพสต์มากที่สุด ของ Twitter โดยผ่าน key \"Premier league\"** "
      ]
    },
    {
      "cell_type": "code",
      "execution_count": null,
      "metadata": {
        "colab": {
          "base_uri": "https://localhost:8080/",
          "height": 0
        },
        "id": "YHJibGEi9v9k",
        "outputId": "f93a0b87-62d0-4da1-b2dd-b51efb846908"
      },
      "outputs": [],
      "source": [
        "pd.set_option('display.max_rows', df_twitter.shape[0]+1)\n",
        "df_twitter"
      ]
    },
    {
      "cell_type": "code",
      "execution_count": 55,
      "metadata": {
        "id": "Ul1P8p5i9v9l"
      },
      "outputs": [],
      "source": [
        "MostTimeToPostInTwitter = df_twitter['date'].value_counts().sort_index().reset_index()\n",
        "MostTimeToPostInTwitter.columns = ['Date','Count']\n",
        "MostTimeToPostInTwitter = MostTimeToPostInTwitter.sort_values(by=['Count'],ignore_index=True,ascending=False)"
      ]
    },
    {
      "cell_type": "code",
      "execution_count": 135,
      "metadata": {
        "colab": {
          "base_uri": "https://localhost:8080/",
          "height": 0
        },
        "id": "2lEEjFyf9v9l",
        "outputId": "6eeb3e14-1ab2-4947-fa9f-f1c4cec61c84"
      },
      "outputs": [
        {
          "data": {
            "text/html": [
              "<div>\n",
              "<style scoped>\n",
              "    .dataframe tbody tr th:only-of-type {\n",
              "        vertical-align: middle;\n",
              "    }\n",
              "\n",
              "    .dataframe tbody tr th {\n",
              "        vertical-align: top;\n",
              "    }\n",
              "\n",
              "    .dataframe thead th {\n",
              "        text-align: right;\n",
              "    }\n",
              "</style>\n",
              "<table border=\"1\" class=\"dataframe\">\n",
              "  <thead>\n",
              "    <tr style=\"text-align: right;\">\n",
              "      <th></th>\n",
              "      <th>Date</th>\n",
              "      <th>Count</th>\n",
              "    </tr>\n",
              "  </thead>\n",
              "  <tbody>\n",
              "    <tr>\n",
              "      <th>0</th>\n",
              "      <td>2022-03-23</td>\n",
              "      <td>1337</td>\n",
              "    </tr>\n",
              "    <tr>\n",
              "      <th>1</th>\n",
              "      <td>2022-03-22</td>\n",
              "      <td>1291</td>\n",
              "    </tr>\n",
              "    <tr>\n",
              "      <th>2</th>\n",
              "      <td>2022-03-24</td>\n",
              "      <td>1205</td>\n",
              "    </tr>\n",
              "    <tr>\n",
              "      <th>3</th>\n",
              "      <td>2022-03-25</td>\n",
              "      <td>930</td>\n",
              "    </tr>\n",
              "    <tr>\n",
              "      <th>4</th>\n",
              "      <td>2022-03-26</td>\n",
              "      <td>929</td>\n",
              "    </tr>\n",
              "    <tr>\n",
              "      <th>5</th>\n",
              "      <td>2022-03-28</td>\n",
              "      <td>912</td>\n",
              "    </tr>\n",
              "    <tr>\n",
              "      <th>6</th>\n",
              "      <td>2022-03-29</td>\n",
              "      <td>867</td>\n",
              "    </tr>\n",
              "    <tr>\n",
              "      <th>7</th>\n",
              "      <td>2022-03-27</td>\n",
              "      <td>847</td>\n",
              "    </tr>\n",
              "    <tr>\n",
              "      <th>8</th>\n",
              "      <td>2022-03-21</td>\n",
              "      <td>837</td>\n",
              "    </tr>\n",
              "  </tbody>\n",
              "</table>\n",
              "</div>"
            ],
            "text/plain": [
              "         Date  Count\n",
              "0  2022-03-23   1337\n",
              "1  2022-03-22   1291\n",
              "2  2022-03-24   1205\n",
              "3  2022-03-25    930\n",
              "4  2022-03-26    929\n",
              "5  2022-03-28    912\n",
              "6  2022-03-29    867\n",
              "7  2022-03-27    847\n",
              "8  2022-03-21    837"
            ]
          },
          "execution_count": 135,
          "metadata": {},
          "output_type": "execute_result"
        }
      ],
      "source": [
        "MostTimeToPostInTwitter.head(10)"
      ]
    },
    {
      "cell_type": "markdown",
      "metadata": {
        "id": "7T4d99FqKimS"
      },
      "source": [
        "### **Solution to get data in Reddit.**"
      ]
    },
    {
      "cell_type": "markdown",
      "metadata": {
        "id": "zDpDiAlH4f3n"
      },
      "source": [
        "# คนกล่าวถึงทีมฟุตบอลในพรีเมียร์ลีกทีมไหนมากสุด ในช่วง 7 วันย้อนหลังนี้ของ Twitter และ Reddit"
      ]
    },
    {
      "cell_type": "markdown",
      "metadata": {
        "id": "W0GOsfEGMOG2"
      },
      "source": [
        "### **Reddit**"
      ]
    },
    {
      "cell_type": "code",
      "execution_count": 137,
      "metadata": {
        "id": "0Ydhzzl7ueii"
      },
      "outputs": [],
      "source": [
        "nameTeam = ['Manchester City','Liverpool','Chelsea','Arsenal','Tottenham hotspur','Manchester United','West Ham United', 'Wolverhampton Wanderers', 'Aston Villa', 'Leicester City','Southampton', 'Crystal Palace', 'Brighton and Hove Albion', 'Newcastle United', 'Brentford', 'Leeds United', 'Everton','Watford', 'Burnley', 'Norwich City']\n",
        "count_team = []\n",
        "dict_soccer_reddit = {}\n",
        "pattern = [\"(Manchester City|manchester city|Man city|man city | MUFC |mufc|ManchesterUnited|manchesterunitedatleti|Ronaldo)\",\n",
        "           \"(Liverpool|LiverpoolFC|liverpoolFC|awlive|awlive city|YNWA|LIVBAR|liverpoollegends|Anfield|LFC|LFClegends|lfc|LivBar|StevieG)\",\n",
        "           \"(Chelsea|chelsea|ChelseaFC|CFC|cfc|ThiagoSilva|CFCPidgin)\",\n",
        "           \"(Arsenal|arsenal|afc|Arsenalfc|COYG|coyg|nicolaspepe|Pepe|BHAARS|AFTV)\",\n",
        "           \"(Tottenham hotspur|tottenham hotspur|Hotspur|hotspur|THFC|thfc|tottenham|Tottenham)\",\n",
        "           \"(Manchester United|manchester united|Man united|man united|MUFC|mufc|ManUtd|ManUnited|ManchesterUnited)\",\n",
        "           \"(West Ham United|west ham united|westhamacademy|westhamlegend|WestHamUtd|westham|WHUFFC)\",\n",
        "           \"(wolverhamptonwanderers|wolverhampton wanderers|Wolves|WWFC|wwfc|WolvesAyWe|WolvesFC)\",\n",
        "           \"(aston villa|Aston Villa|AstonVilla|avfc|AVFC|ASTONVILLA|astonvillafc|astonvillafootballclub)\",\n",
        "           \"(LeicesterCity|leicester city|LCFC|lcfc|Madders)\",\n",
        "           \"(SouthamptonFC|southampton|SFC|sfc)\",\n",
        "           \"(CrystalPalaceFC|crystalpalacefc|CPFC|cpfc|CrystalPalace)\",\n",
        "           \"(Brighton and Hove Albion|brighton and hove albion|BHAFC|bhafc)\",\n",
        "           \"(newcastle united|Newcastle United|NUFC|nufc|NUFCFans|newcastleunited)\",\n",
        "           \"(Brentford|brentford|BrentfordFC|brentfordfc)\",\n",
        "           \"(Leeds United|leeds united|LUFC|lufc|LUFCLoanWatch|lufcloanwatch|LeedsUnited|LUFCStats)\",\n",
        "           \"(Everton|everton|EvertonFC|evertonfc|EvertonToTheChampionship|EFC|efc)\",\n",
        "           \"(WatfordFC|watfordfc)\", \"(Burnley|burnley|BurnleyFC|burnleyfc|burnleyFC)\",\n",
        "           \"(Norwich City|norwich city|norwich cityfc|Norwich CityFC|NorwichCityFC|norwichcityfc|ncfc|NCFC)\"]\n",
        "for index in range(len(nameTeam)):\n",
        "  team = []\n",
        "  for text in df_reddit['text'][9728:]:\n",
        "    if re.findall(pattern[index], text):\n",
        "      team.append(1)\n",
        "  dict_soccer_reddit[nameTeam[index]] = sum(team)"
      ]
    },
    {
      "cell_type": "code",
      "execution_count": 138,
      "metadata": {
        "colab": {
          "base_uri": "https://localhost:8080/"
        },
        "id": "DeSn1L4i1ZJT",
        "outputId": "34f84d16-7f46-4c14-ee36-da8feda7fc8c"
      },
      "outputs": [
        {
          "data": {
            "text/plain": [
              "{'Manchester City': 8,\n",
              " 'Liverpool': 18,\n",
              " 'Chelsea': 13,\n",
              " 'Arsenal': 10,\n",
              " 'Tottenham hotspur': 3,\n",
              " 'Manchester United': 8,\n",
              " 'West Ham United': 0,\n",
              " 'Wolverhampton Wanderers': 0,\n",
              " 'Aston Villa': 0,\n",
              " 'Leicester City': 0,\n",
              " 'Southampton': 0,\n",
              " 'Crystal Palace': 0,\n",
              " 'Brighton and Hove Albion': 0,\n",
              " 'Newcastle United': 0,\n",
              " 'Brentford': 0,\n",
              " 'Leeds United': 0,\n",
              " 'Everton': 5,\n",
              " 'Watford': 0,\n",
              " 'Burnley': 2,\n",
              " 'Norwich City': 0}"
            ]
          },
          "execution_count": 138,
          "metadata": {},
          "output_type": "execute_result"
        }
      ],
      "source": [
        "dict_soccer_reddit"
      ]
    },
    {
      "cell_type": "code",
      "execution_count": 139,
      "metadata": {
        "colab": {
          "base_uri": "https://localhost:8080/",
          "height": 676
        },
        "id": "-Y1yUHLr4z_k",
        "outputId": "b6da7b4e-036c-48e6-a840-50a34f15fa5c"
      },
      "outputs": [
        {
          "data": {
            "text/html": [
              "<div>\n",
              "<style scoped>\n",
              "    .dataframe tbody tr th:only-of-type {\n",
              "        vertical-align: middle;\n",
              "    }\n",
              "\n",
              "    .dataframe tbody tr th {\n",
              "        vertical-align: top;\n",
              "    }\n",
              "\n",
              "    .dataframe thead th {\n",
              "        text-align: right;\n",
              "    }\n",
              "</style>\n",
              "<table border=\"1\" class=\"dataframe\">\n",
              "  <thead>\n",
              "    <tr style=\"text-align: right;\">\n",
              "      <th></th>\n",
              "      <th>Team</th>\n",
              "      <th>Mention</th>\n",
              "    </tr>\n",
              "  </thead>\n",
              "  <tbody>\n",
              "    <tr>\n",
              "      <th>1</th>\n",
              "      <td>Liverpool</td>\n",
              "      <td>18</td>\n",
              "    </tr>\n",
              "    <tr>\n",
              "      <th>2</th>\n",
              "      <td>Chelsea</td>\n",
              "      <td>13</td>\n",
              "    </tr>\n",
              "    <tr>\n",
              "      <th>3</th>\n",
              "      <td>Arsenal</td>\n",
              "      <td>10</td>\n",
              "    </tr>\n",
              "    <tr>\n",
              "      <th>4</th>\n",
              "      <td>Manchester City</td>\n",
              "      <td>8</td>\n",
              "    </tr>\n",
              "    <tr>\n",
              "      <th>5</th>\n",
              "      <td>Manchester United</td>\n",
              "      <td>8</td>\n",
              "    </tr>\n",
              "    <tr>\n",
              "      <th>6</th>\n",
              "      <td>Everton</td>\n",
              "      <td>5</td>\n",
              "    </tr>\n",
              "    <tr>\n",
              "      <th>7</th>\n",
              "      <td>Tottenham hotspur</td>\n",
              "      <td>3</td>\n",
              "    </tr>\n",
              "    <tr>\n",
              "      <th>8</th>\n",
              "      <td>Burnley</td>\n",
              "      <td>2</td>\n",
              "    </tr>\n",
              "    <tr>\n",
              "      <th>9</th>\n",
              "      <td>Newcastle United</td>\n",
              "      <td>0</td>\n",
              "    </tr>\n",
              "    <tr>\n",
              "      <th>10</th>\n",
              "      <td>Watford</td>\n",
              "      <td>0</td>\n",
              "    </tr>\n",
              "    <tr>\n",
              "      <th>11</th>\n",
              "      <td>Leeds United</td>\n",
              "      <td>0</td>\n",
              "    </tr>\n",
              "    <tr>\n",
              "      <th>12</th>\n",
              "      <td>Brentford</td>\n",
              "      <td>0</td>\n",
              "    </tr>\n",
              "    <tr>\n",
              "      <th>13</th>\n",
              "      <td>Southampton</td>\n",
              "      <td>0</td>\n",
              "    </tr>\n",
              "    <tr>\n",
              "      <th>14</th>\n",
              "      <td>Brighton and Hove Albion</td>\n",
              "      <td>0</td>\n",
              "    </tr>\n",
              "    <tr>\n",
              "      <th>15</th>\n",
              "      <td>Crystal Palace</td>\n",
              "      <td>0</td>\n",
              "    </tr>\n",
              "    <tr>\n",
              "      <th>16</th>\n",
              "      <td>Leicester City</td>\n",
              "      <td>0</td>\n",
              "    </tr>\n",
              "    <tr>\n",
              "      <th>17</th>\n",
              "      <td>Aston Villa</td>\n",
              "      <td>0</td>\n",
              "    </tr>\n",
              "    <tr>\n",
              "      <th>18</th>\n",
              "      <td>Wolverhampton Wanderers</td>\n",
              "      <td>0</td>\n",
              "    </tr>\n",
              "    <tr>\n",
              "      <th>19</th>\n",
              "      <td>West Ham United</td>\n",
              "      <td>0</td>\n",
              "    </tr>\n",
              "    <tr>\n",
              "      <th>20</th>\n",
              "      <td>Norwich City</td>\n",
              "      <td>0</td>\n",
              "    </tr>\n",
              "  </tbody>\n",
              "</table>\n",
              "</div>"
            ],
            "text/plain": [
              "                        Team  Mention\n",
              "1                  Liverpool       18\n",
              "2                    Chelsea       13\n",
              "3                    Arsenal       10\n",
              "4            Manchester City        8\n",
              "5          Manchester United        8\n",
              "6                    Everton        5\n",
              "7          Tottenham hotspur        3\n",
              "8                    Burnley        2\n",
              "9           Newcastle United        0\n",
              "10                   Watford        0\n",
              "11              Leeds United        0\n",
              "12                 Brentford        0\n",
              "13               Southampton        0\n",
              "14  Brighton and Hove Albion        0\n",
              "15            Crystal Palace        0\n",
              "16            Leicester City        0\n",
              "17               Aston Villa        0\n",
              "18   Wolverhampton Wanderers        0\n",
              "19           West Ham United        0\n",
              "20              Norwich City        0"
            ]
          },
          "execution_count": 139,
          "metadata": {},
          "output_type": "execute_result"
        }
      ],
      "source": [
        "data = {'Team' : dict_soccer_reddit.keys(),'Mention':dict_soccer_reddit.values()}\n",
        "show_answer_form_reddit = pd.DataFrame(data)\n",
        "show_answer_form_reddit.sort_values(by=['Mention'],ignore_index=True,inplace=True, ascending=False)\n",
        "show_answer_form_reddit.index += 1\n",
        "show_answer_form_reddit"
      ]
    },
    {
      "cell_type": "code",
      "execution_count": 140,
      "metadata": {
        "colab": {
          "base_uri": "https://localhost:8080/"
        },
        "id": "s1rDV1NZ4Tx_",
        "outputId": "2b6a9a03-345e-422b-a627-0daefa3096d4"
      },
      "outputs": [
        {
          "data": {
            "text/plain": [
              "67"
            ]
          },
          "execution_count": 140,
          "metadata": {},
          "output_type": "execute_result"
        }
      ],
      "source": [
        "count = []\n",
        "for v in show_answer_form_reddit[\"Mention\"]:\n",
        "  count.append(v)\n",
        "sum(count)"
      ]
    },
    {
      "cell_type": "code",
      "execution_count": 141,
      "metadata": {
        "colab": {
          "base_uri": "https://localhost:8080/",
          "height": 405
        },
        "id": "a86CEj3u6qnV",
        "outputId": "d3aa77c7-a09b-40b4-b040-07a9aad95e8f"
      },
      "outputs": [
        {
          "data": {
            "image/png": "[encoded data removed]",
            "text/plain": [
              "<Figure size 432x288 with 1 Axes>"
            ]
          },
          "metadata": {
            "needs_background": "light"
          },
          "output_type": "display_data"
        }
      ],
      "source": [
        "import matplotlib.pyplot as plt\n",
        "\n",
        "show_answer_form_reddit.sort_values('Mention', inplace=True)\n",
        "show_answer_form_reddit.plot(x ='Team', y='Mention',kind = 'bar')\n",
        "plt.show()"
      ]
    },
    {
      "cell_type": "markdown",
      "metadata": {
        "id": "3bgJQ1OFMTlf"
      },
      "source": [
        "### **Twitter**"
      ]
    },
    {
      "cell_type": "code",
      "execution_count": null,
      "metadata": {
        "id": "-f3gbHA9SpeW"
      },
      "outputs": [],
      "source": [
        "nameTeam = ['Manchester City','Liverpool','Chelsea','Arsenal','Tottenham hotspur','Manchester United','West Ham United', 'Wolverhampton Wanderers', 'Aston Villa', 'Leicester City','Southampton', 'Crystal Palace', 'Brighton and Hove Albion', 'Newcastle United', 'Brentford', 'Leeds United', 'Everton','Watford', 'Burnley', 'Norwich City']\n",
        "dict_soccer_twiiter = {}\n",
        "\n",
        "pattern = [\"(Manchester City|manchester city|Man city|man city | MUFC |mufc|ManchesterUnited|manchesterunitedatleti|Ronaldo)\",\n",
        "           \"(Liverpool|LiverpoolFC|liverpoolFC|awlive|awlive city|YNWA|LIVBAR|liverpoollegends|Anfield|LFC|LFClegends|lfc|LivBar|StevieG)\",\n",
        "           \"(Chelsea|chelsea|ChelseaFC|CFC|cfc|ThiagoSilva|CFCPidgin)\",\n",
        "           \"(Arsenal|arsenal|afc|Arsenalfc|COYG|coyg|nicolaspepe|Pepe|BHAARS|AFTV)\",\n",
        "           \"(Tottenham hotspur|tottenham hotspur|Hotspur|hotspur|THFC|thfc|tottenham|Tottenham)\",\n",
        "           \"(Manchester United|manchester united|Man united|man united|MUFC|mufc|ManUtd|ManUnited|ManchesterUnited)\",\n",
        "           \"(West Ham United|west ham united|westhamacademy|westhamlegend|WestHamUtd|westham|WHUFFC)\",\n",
        "           \"(wolverhamptonwanderers|wolverhampton wanderers|Wolves|WWFC|wwfc|WolvesAyWe|WolvesFC)\",\n",
        "           \"(aston villa|Aston Villa|AstonVilla|avfc|AVFC|ASTONVILLA|astonvillafc|astonvillafootballclub)\",\n",
        "           \"(LeicesterCity|leicester city|LCFC|lcfc|Madders)\",\n",
        "           \"(SouthamptonFC|southampton|SFC|sfc)\",\n",
        "           \"(CrystalPalaceFC|crystalpalacefc|CPFC|cpfc|CrystalPalace)\",\n",
        "           \"(Brighton and Hove Albion|brighton and hove albion|BHAFC|bhafc)\",\n",
        "           \"(newcastle united|Newcastle United|NUFC|nufc|NUFCFans|newcastleunited)\",\n",
        "           \"(Brentford|brentford|BrentfordFC|brentfordfc)\",\n",
        "           \"(Leeds United|leeds united|LUFC|lufc|LUFCLoanWatch|lufcloanwatch|LeedsUnited|LUFCStats)\",\n",
        "           \"(Everton|everton|EvertonFC|evertonfc|EvertonToTheChampionship|EFC|efc)\",\n",
        "           \"(WatfordFC|watfordfc)\",\n",
        "           \"(Burnley|burnley|BurnleyFC|burnleyfc|burnleyFC)\",\n",
        "           \"(Norwich City|norwich city|norwich cityfc|Norwich CityFC|NorwichCityFC|norwichcityfc|ncfc|NCFC)\"]\n",
        "\n",
        "for index in range(len(nameTeam)):\n",
        "  team = []\n",
        "  for text in df_twitter['text']:\n",
        "    if re.findall(pattern[index], text):\n",
        "      team.append(1)\n",
        "  dict_soccer_twiiter[nameTeam[index]] = sum(team)"
      ]
    },
    {
      "cell_type": "code",
      "execution_count": 143,
      "metadata": {
        "colab": {
          "base_uri": "https://localhost:8080/",
          "height": 676
        },
        "id": "inSf3hVIUeDr",
        "outputId": "adcc9215-5217-40ed-c9d8-0e55c4589c5c"
      },
      "outputs": [
        {
          "data": {
            "text/html": [
              "<div>\n",
              "<style scoped>\n",
              "    .dataframe tbody tr th:only-of-type {\n",
              "        vertical-align: middle;\n",
              "    }\n",
              "\n",
              "    .dataframe tbody tr th {\n",
              "        vertical-align: top;\n",
              "    }\n",
              "\n",
              "    .dataframe thead th {\n",
              "        text-align: right;\n",
              "    }\n",
              "</style>\n",
              "<table border=\"1\" class=\"dataframe\">\n",
              "  <thead>\n",
              "    <tr style=\"text-align: right;\">\n",
              "      <th></th>\n",
              "      <th>Team</th>\n",
              "      <th>Mention</th>\n",
              "    </tr>\n",
              "  </thead>\n",
              "  <tbody>\n",
              "    <tr>\n",
              "      <th>1</th>\n",
              "      <td>Chelsea</td>\n",
              "      <td>1713</td>\n",
              "    </tr>\n",
              "    <tr>\n",
              "      <th>2</th>\n",
              "      <td>Manchester City</td>\n",
              "      <td>1280</td>\n",
              "    </tr>\n",
              "    <tr>\n",
              "      <th>3</th>\n",
              "      <td>Manchester United</td>\n",
              "      <td>1155</td>\n",
              "    </tr>\n",
              "    <tr>\n",
              "      <th>4</th>\n",
              "      <td>Liverpool</td>\n",
              "      <td>925</td>\n",
              "    </tr>\n",
              "    <tr>\n",
              "      <th>5</th>\n",
              "      <td>Arsenal</td>\n",
              "      <td>821</td>\n",
              "    </tr>\n",
              "    <tr>\n",
              "      <th>6</th>\n",
              "      <td>Tottenham hotspur</td>\n",
              "      <td>429</td>\n",
              "    </tr>\n",
              "    <tr>\n",
              "      <th>7</th>\n",
              "      <td>Aston Villa</td>\n",
              "      <td>177</td>\n",
              "    </tr>\n",
              "    <tr>\n",
              "      <th>8</th>\n",
              "      <td>Everton</td>\n",
              "      <td>171</td>\n",
              "    </tr>\n",
              "    <tr>\n",
              "      <th>9</th>\n",
              "      <td>Brentford</td>\n",
              "      <td>158</td>\n",
              "    </tr>\n",
              "    <tr>\n",
              "      <th>10</th>\n",
              "      <td>Leeds United</td>\n",
              "      <td>146</td>\n",
              "    </tr>\n",
              "    <tr>\n",
              "      <th>11</th>\n",
              "      <td>Wolverhampton Wanderers</td>\n",
              "      <td>94</td>\n",
              "    </tr>\n",
              "    <tr>\n",
              "      <th>12</th>\n",
              "      <td>Newcastle United</td>\n",
              "      <td>88</td>\n",
              "    </tr>\n",
              "    <tr>\n",
              "      <th>13</th>\n",
              "      <td>West Ham United</td>\n",
              "      <td>73</td>\n",
              "    </tr>\n",
              "    <tr>\n",
              "      <th>14</th>\n",
              "      <td>Leicester City</td>\n",
              "      <td>51</td>\n",
              "    </tr>\n",
              "    <tr>\n",
              "      <th>15</th>\n",
              "      <td>Crystal Palace</td>\n",
              "      <td>43</td>\n",
              "    </tr>\n",
              "    <tr>\n",
              "      <th>16</th>\n",
              "      <td>Burnley</td>\n",
              "      <td>43</td>\n",
              "    </tr>\n",
              "    <tr>\n",
              "      <th>17</th>\n",
              "      <td>Southampton</td>\n",
              "      <td>36</td>\n",
              "    </tr>\n",
              "    <tr>\n",
              "      <th>18</th>\n",
              "      <td>Norwich City</td>\n",
              "      <td>21</td>\n",
              "    </tr>\n",
              "    <tr>\n",
              "      <th>19</th>\n",
              "      <td>Watford</td>\n",
              "      <td>19</td>\n",
              "    </tr>\n",
              "    <tr>\n",
              "      <th>20</th>\n",
              "      <td>Brighton and Hove Albion</td>\n",
              "      <td>16</td>\n",
              "    </tr>\n",
              "  </tbody>\n",
              "</table>\n",
              "</div>"
            ],
            "text/plain": [
              "                        Team  Mention\n",
              "1                    Chelsea     1713\n",
              "2            Manchester City     1280\n",
              "3          Manchester United     1155\n",
              "4                  Liverpool      925\n",
              "5                    Arsenal      821\n",
              "6          Tottenham hotspur      429\n",
              "7                Aston Villa      177\n",
              "8                    Everton      171\n",
              "9                  Brentford      158\n",
              "10              Leeds United      146\n",
              "11   Wolverhampton Wanderers       94\n",
              "12          Newcastle United       88\n",
              "13           West Ham United       73\n",
              "14            Leicester City       51\n",
              "15            Crystal Palace       43\n",
              "16                   Burnley       43\n",
              "17               Southampton       36\n",
              "18              Norwich City       21\n",
              "19                   Watford       19\n",
              "20  Brighton and Hove Albion       16"
            ]
          },
          "execution_count": 143,
          "metadata": {},
          "output_type": "execute_result"
        }
      ],
      "source": [
        "data = {'Team' : dict_soccer_twiiter.keys(),'Mention':dict_soccer_twiiter.values()}\n",
        "show_answer_form_twitter = pd.DataFrame(data)\n",
        "show_answer_form_twitter.sort_values(by=['Mention'],ignore_index=True,inplace=True, ascending=False)\n",
        "show_answer_form_twitter.index += 1\n",
        "show_answer_form_twitter"
      ]
    },
    {
      "cell_type": "code",
      "execution_count": 145,
      "metadata": {
        "colab": {
          "base_uri": "https://localhost:8080/"
        },
        "id": "Gr7n8irJUYT_",
        "outputId": "981a5f4b-f26e-4b26-e169-a2cabd8ab808"
      },
      "outputs": [
        {
          "data": {
            "text/plain": [
              "7459"
            ]
          },
          "execution_count": 145,
          "metadata": {},
          "output_type": "execute_result"
        }
      ],
      "source": [
        "count = []\n",
        "for v in show_answer_form_twitter[\"Mention\"]:\n",
        "  count.append(v)\n",
        "sum(count)"
      ]
    },
    {
      "cell_type": "code",
      "execution_count": 147,
      "metadata": {
        "colab": {
          "base_uri": "https://localhost:8080/",
          "height": 405
        },
        "id": "GKyPdy5pUZ4Y",
        "outputId": "7ca9bcb4-11f8-41b2-d364-322086086fd9"
      },
      "outputs": [
        {
          "data": {
            "image/png": "[encoded data removed]",
            "text/plain": [
              "<Figure size 432x288 with 1 Axes>"
            ]
          },
          "metadata": {
            "needs_background": "light"
          },
          "output_type": "display_data"
        }
      ],
      "source": [
        "import matplotlib.pyplot as plt\n",
        "\n",
        "show_answer_form_twitter.sort_values('Mention', inplace=True)\n",
        "show_answer_form_twitter.plot(x ='Team', y='Mention',kind = 'bar')\n",
        "plt.show()"
      ]
    },
    {
      "cell_type": "markdown",
      "metadata": {
        "id": "XuTA6Nj9BtVd"
      },
      "source": [
        "#Future Engineering"
      ]
    },
    {
      "cell_type": "markdown",
      "metadata": {
        "id": "mwEl14_rBrtW"
      },
      "source": [
        "### **twitter**"
      ]
    },
    {
      "cell_type": "markdown",
      "metadata": {
        "id": "JzE4IcjOB1RZ"
      },
      "source": [
        "Get hashtag by record in data twitter."
      ]
    },
    {
      "cell_type": "code",
      "execution_count": 148,
      "metadata": {
        "id": "0abUabylD-0G"
      },
      "outputs": [],
      "source": [
        "df_twitter_for_futureengineering = df_twitter.copy()"
      ]
    },
    {
      "cell_type": "code",
      "execution_count": 149,
      "metadata": {
        "id": "HuS148HCBz7f"
      },
      "outputs": [],
      "source": [
        "list_post = []\n",
        "list_tag = []\n",
        "for text in df_twitter_for_futureengineering['text']:\n",
        "  post = re.sub(\"#\\S+\",'',text)\n",
        "  if '#' in text:\n",
        "    tag = re.findall('#\\S+', text)\n",
        "    hashtag = \" \".join(tag)\n",
        "    list_post.append(post)\n",
        "    list_tag.append(hashtag)\n",
        "  else:\n",
        "    list_post.append(post)"
      ]
    },
    {
      "cell_type": "code",
      "execution_count": 150,
      "metadata": {
        "id": "tIH3IkteCkIx"
      },
      "outputs": [],
      "source": [
        "df_twitter['text'] = list_post\n",
        "df_twitter['Hashtag'] = list_tag"
      ]
    },
    {
      "cell_type": "code",
      "execution_count": 151,
      "metadata": {
        "colab": {
          "base_uri": "https://localhost:8080/",
          "height": 0
        },
        "id": "Xno3U6bVDyxJ",
        "outputId": "9cb44395-37e3-490b-c17d-94a690e5c689"
      },
      "outputs": [
        {
          "data": {
            "text/html": [
              "<div>\n",
              "<style scoped>\n",
              "    .dataframe tbody tr th:only-of-type {\n",
              "        vertical-align: middle;\n",
              "    }\n",
              "\n",
              "    .dataframe tbody tr th {\n",
              "        vertical-align: top;\n",
              "    }\n",
              "\n",
              "    .dataframe thead th {\n",
              "        text-align: right;\n",
              "    }\n",
              "</style>\n",
              "<table border=\"1\" class=\"dataframe\">\n",
              "  <thead>\n",
              "    <tr style=\"text-align: right;\">\n",
              "      <th></th>\n",
              "      <th>user</th>\n",
              "      <th>text</th>\n",
              "      <th>date</th>\n",
              "      <th>time</th>\n",
              "      <th>Hashtag</th>\n",
              "    </tr>\n",
              "  </thead>\n",
              "  <tbody>\n",
              "    <tr>\n",
              "      <th>0</th>\n",
              "      <td>Brandon Doan</td>\n",
              "      <td>Real Madrid have surely lost Erling Haaland to...</td>\n",
              "      <td>2022-03-21</td>\n",
              "      <td>11:30:34</td>\n",
              "      <td>#Haaland #MCFC #PremierLeague #UCL</td>\n",
              "    </tr>\n",
              "    <tr>\n",
              "      <th>1</th>\n",
              "      <td>Phil Goaten ⁶₆⁷</td>\n",
              "      <td>Manchester City and Liverpool fans and face tr...</td>\n",
              "      <td>2022-03-21</td>\n",
              "      <td>11:34:16</td>\n",
              "      <td>#MCFC #FACup #PremierLeague #UCL</td>\n",
              "    </tr>\n",
              "    <tr>\n",
              "      <th>2</th>\n",
              "      <td>Brandon Doan</td>\n",
              "      <td>Manchester City and Liverpool fans and face tr...</td>\n",
              "      <td>2022-03-21</td>\n",
              "      <td>11:34:25</td>\n",
              "      <td>#MCFC #FACup #PremierLeague #UCL</td>\n",
              "    </tr>\n",
              "    <tr>\n",
              "      <th>3</th>\n",
              "      <td>Nedu2010</td>\n",
              "      <td>Getting Top 4 in the Premier League in 2022 is...</td>\n",
              "      <td>2022-03-21</td>\n",
              "      <td>11:34:35</td>\n",
              "      <td>#Arsenal #PremierLeague</td>\n",
              "    </tr>\n",
              "    <tr>\n",
              "      <th>4</th>\n",
              "      <td>Gabriel</td>\n",
              "      <td>Kevin De Bruyne: “I think the reaction was rea...</td>\n",
              "      <td>2022-03-21</td>\n",
              "      <td>11:35:05</td>\n",
              "      <td>#MCFC #PremierLeague</td>\n",
              "    </tr>\n",
              "  </tbody>\n",
              "</table>\n",
              "</div>"
            ],
            "text/plain": [
              "              user                                               text  \\\n",
              "0     Brandon Doan  Real Madrid have surely lost Erling Haaland to...   \n",
              "1  Phil Goaten ⁶₆⁷  Manchester City and Liverpool fans and face tr...   \n",
              "2     Brandon Doan  Manchester City and Liverpool fans and face tr...   \n",
              "3         Nedu2010  Getting Top 4 in the Premier League in 2022 is...   \n",
              "4          Gabriel  Kevin De Bruyne: “I think the reaction was rea...   \n",
              "\n",
              "         date      time                             Hashtag  \n",
              "0  2022-03-21  11:30:34  #Haaland #MCFC #PremierLeague #UCL  \n",
              "1  2022-03-21  11:34:16    #MCFC #FACup #PremierLeague #UCL  \n",
              "2  2022-03-21  11:34:25    #MCFC #FACup #PremierLeague #UCL  \n",
              "3  2022-03-21  11:34:35             #Arsenal #PremierLeague  \n",
              "4  2022-03-21  11:35:05                #MCFC #PremierLeague  "
            ]
          },
          "execution_count": 151,
          "metadata": {},
          "output_type": "execute_result"
        }
      ],
      "source": [
        "df_twitter.head(5)"
      ]
    },
    {
      "cell_type": "code",
      "execution_count": 152,
      "metadata": {
        "id": "6m39HgQoDdZU"
      },
      "outputs": [],
      "source": [
        "df_twitter = df_twitter[[\"user\",\"text\",\"Hashtag\",\"date\",\"time\"]]"
      ]
    },
    {
      "cell_type": "code",
      "execution_count": 153,
      "metadata": {
        "colab": {
          "base_uri": "https://localhost:8080/",
          "height": 0
        },
        "id": "R50uWsCYCoRi",
        "outputId": "76f71bcf-93ed-403b-fe86-312c9158b830"
      },
      "outputs": [
        {
          "data": {
            "text/html": [
              "<div>\n",
              "<style scoped>\n",
              "    .dataframe tbody tr th:only-of-type {\n",
              "        vertical-align: middle;\n",
              "    }\n",
              "\n",
              "    .dataframe tbody tr th {\n",
              "        vertical-align: top;\n",
              "    }\n",
              "\n",
              "    .dataframe thead th {\n",
              "        text-align: right;\n",
              "    }\n",
              "</style>\n",
              "<table border=\"1\" class=\"dataframe\">\n",
              "  <thead>\n",
              "    <tr style=\"text-align: right;\">\n",
              "      <th></th>\n",
              "      <th>user</th>\n",
              "      <th>text</th>\n",
              "      <th>Hashtag</th>\n",
              "      <th>date</th>\n",
              "      <th>time</th>\n",
              "    </tr>\n",
              "  </thead>\n",
              "  <tbody>\n",
              "    <tr>\n",
              "      <th>0</th>\n",
              "      <td>Brandon Doan</td>\n",
              "      <td>Real Madrid have surely lost Erling Haaland to...</td>\n",
              "      <td>#Haaland #MCFC #PremierLeague #UCL</td>\n",
              "      <td>2022-03-21</td>\n",
              "      <td>11:30:34</td>\n",
              "    </tr>\n",
              "    <tr>\n",
              "      <th>1</th>\n",
              "      <td>Phil Goaten ⁶₆⁷</td>\n",
              "      <td>Manchester City and Liverpool fans and face tr...</td>\n",
              "      <td>#MCFC #FACup #PremierLeague #UCL</td>\n",
              "      <td>2022-03-21</td>\n",
              "      <td>11:34:16</td>\n",
              "    </tr>\n",
              "    <tr>\n",
              "      <th>2</th>\n",
              "      <td>Brandon Doan</td>\n",
              "      <td>Manchester City and Liverpool fans and face tr...</td>\n",
              "      <td>#MCFC #FACup #PremierLeague #UCL</td>\n",
              "      <td>2022-03-21</td>\n",
              "      <td>11:34:25</td>\n",
              "    </tr>\n",
              "    <tr>\n",
              "      <th>3</th>\n",
              "      <td>Nedu2010</td>\n",
              "      <td>Getting Top 4 in the Premier League in 2022 is...</td>\n",
              "      <td>#Arsenal #PremierLeague</td>\n",
              "      <td>2022-03-21</td>\n",
              "      <td>11:34:35</td>\n",
              "    </tr>\n",
              "    <tr>\n",
              "      <th>4</th>\n",
              "      <td>Gabriel</td>\n",
              "      <td>Kevin De Bruyne: “I think the reaction was rea...</td>\n",
              "      <td>#MCFC #PremierLeague</td>\n",
              "      <td>2022-03-21</td>\n",
              "      <td>11:35:05</td>\n",
              "    </tr>\n",
              "  </tbody>\n",
              "</table>\n",
              "</div>"
            ],
            "text/plain": [
              "              user                                               text  \\\n",
              "0     Brandon Doan  Real Madrid have surely lost Erling Haaland to...   \n",
              "1  Phil Goaten ⁶₆⁷  Manchester City and Liverpool fans and face tr...   \n",
              "2     Brandon Doan  Manchester City and Liverpool fans and face tr...   \n",
              "3         Nedu2010  Getting Top 4 in the Premier League in 2022 is...   \n",
              "4          Gabriel  Kevin De Bruyne: “I think the reaction was rea...   \n",
              "\n",
              "                              Hashtag        date      time  \n",
              "0  #Haaland #MCFC #PremierLeague #UCL  2022-03-21  11:30:34  \n",
              "1    #MCFC #FACup #PremierLeague #UCL  2022-03-21  11:34:16  \n",
              "2    #MCFC #FACup #PremierLeague #UCL  2022-03-21  11:34:25  \n",
              "3             #Arsenal #PremierLeague  2022-03-21  11:34:35  \n",
              "4                #MCFC #PremierLeague  2022-03-21  11:35:05  "
            ]
          },
          "execution_count": 153,
          "metadata": {},
          "output_type": "execute_result"
        }
      ],
      "source": [
        "df_twitter.head(5)"
      ]
    },
    {
      "cell_type": "markdown",
      "metadata": {
        "id": "P-cXgZI2MAzq"
      },
      "source": [
        "### **Reddit**"
      ]
    },
    {
      "cell_type": "code",
      "execution_count": 154,
      "metadata": {
        "colab": {
          "base_uri": "https://localhost:8080/",
          "height": 0
        },
        "id": "K6_qBrmZMFLH",
        "outputId": "272f5bf6-96d5-4b87-b7ef-bc759a8302e9"
      },
      "outputs": [
        {
          "data": {
            "text/html": [
              "<div>\n",
              "<style scoped>\n",
              "    .dataframe tbody tr th:only-of-type {\n",
              "        vertical-align: middle;\n",
              "    }\n",
              "\n",
              "    .dataframe tbody tr th {\n",
              "        vertical-align: top;\n",
              "    }\n",
              "\n",
              "    .dataframe thead th {\n",
              "        text-align: right;\n",
              "    }\n",
              "</style>\n",
              "<table border=\"1\" class=\"dataframe\">\n",
              "  <thead>\n",
              "    <tr style=\"text-align: right;\">\n",
              "      <th></th>\n",
              "      <th>user</th>\n",
              "      <th>text</th>\n",
              "      <th>date</th>\n",
              "      <th>time</th>\n",
              "    </tr>\n",
              "  </thead>\n",
              "  <tbody>\n",
              "    <tr>\n",
              "      <th>0</th>\n",
              "      <td>Spursfan-Coys</td>\n",
              "      <td>For those of you that say Chelsea fans aren’t ...</td>\n",
              "      <td>2021-08-01</td>\n",
              "      <td>00:01:03</td>\n",
              "    </tr>\n",
              "    <tr>\n",
              "      <th>1</th>\n",
              "      <td>AutoModerator</td>\n",
              "      <td>r/PremierLeague Daily Discussion</td>\n",
              "      <td>2021-08-01</td>\n",
              "      <td>04:00:26</td>\n",
              "    </tr>\n",
              "    <tr>\n",
              "      <th>2</th>\n",
              "      <td>Willpowers1200</td>\n",
              "      <td>Is mikel areteta the right answer for Arsenal ...</td>\n",
              "      <td>2021-08-01</td>\n",
              "      <td>04:03:18</td>\n",
              "    </tr>\n",
              "    <tr>\n",
              "      <th>3</th>\n",
              "      <td>fatesgift</td>\n",
              "      <td>[The Athletic] Arsenal consider signing Lautar...</td>\n",
              "      <td>2021-08-01</td>\n",
              "      <td>04:20:30</td>\n",
              "    </tr>\n",
              "    <tr>\n",
              "      <th>4</th>\n",
              "      <td>Purpledoodlesx</td>\n",
              "      <td>What’s the opinion of Villa fans on here on Gr...</td>\n",
              "      <td>2021-08-01</td>\n",
              "      <td>05:54:32</td>\n",
              "    </tr>\n",
              "  </tbody>\n",
              "</table>\n",
              "</div>"
            ],
            "text/plain": [
              "             user                                               text  \\\n",
              "0   Spursfan-Coys  For those of you that say Chelsea fans aren’t ...   \n",
              "1   AutoModerator                   r/PremierLeague Daily Discussion   \n",
              "2  Willpowers1200  Is mikel areteta the right answer for Arsenal ...   \n",
              "3       fatesgift  [The Athletic] Arsenal consider signing Lautar...   \n",
              "4  Purpledoodlesx  What’s the opinion of Villa fans on here on Gr...   \n",
              "\n",
              "         date      time  \n",
              "0  2021-08-01  00:01:03  \n",
              "1  2021-08-01  04:00:26  \n",
              "2  2021-08-01  04:03:18  \n",
              "3  2021-08-01  04:20:30  \n",
              "4  2021-08-01  05:54:32  "
            ]
          },
          "execution_count": 154,
          "metadata": {},
          "output_type": "execute_result"
        }
      ],
      "source": [
        "df_reddit.head(5)"
      ]
    },
    {
      "cell_type": "markdown",
      "metadata": {
        "id": "L2ij3NjNsRYT"
      },
      "source": [
        "# Insert data to database."
      ]
    },
    {
      "cell_type": "code",
      "execution_count": 73,
      "metadata": {
        "id": "osB39JxosWNC"
      },
      "outputs": [],
      "source": [
        "import pymysql"
      ]
    },
    {
      "cell_type": "code",
      "execution_count": 74,
      "metadata": {},
      "outputs": [],
      "source": [
        "mydb = pymysql.connect(\n",
        "  host=\"localhost\",\n",
        "  user=\"root\",\n",
        "  password=\"12345678\",\n",
        "  database=\"dataengineering\"\n",
        ")"
      ]
    },
    {
      "cell_type": "code",
      "execution_count": 75,
      "metadata": {},
      "outputs": [],
      "source": [
        "mycursor = mydb.cursor()"
      ]
    },
    {
      "cell_type": "code",
      "execution_count": 109,
      "metadata": {},
      "outputs": [],
      "source": [
        "\n",
        "for index in range(0,len(df_twitter)):\n",
        "    mycursor.execute(\"INSERT INTO twitterapi VALUES (%s,%s,%s,%s,%s)\",(df_twitter['user'][index],df_twitter['text'][index],df_twitter['Hashtag'][index],df_twitter['date'][index],df_twitter['time'][index]))\n",
        "mydb.commit()\n",
        "mydb.close()\n",
        "mycursor.close()"
      ]
    },
    {
      "cell_type": "code",
      "execution_count": 77,
      "metadata": {},
      "outputs": [],
      "source": [
        "\n",
        "for index in range(0,len(df_reddit)):\n",
        "    mycursor.execute(\"INSERT INTO redditapi VALUES (%s,%s,%s,%s)\",(df_reddit['user'][index],df_reddit['text'][index],df_reddit['date'][index],df_reddit['time'][index]))\n",
        "mydb.commit()\n",
        "mydb.close()\n",
        "mycursor.close()"
      ]
    }
  ],
  "metadata": {
    "colab": {
      "collapsed_sections": [
        "U7lAOOKe5BGv",
        "ydPu_HwXWobi",
        "7T4d99FqKimS",
        "OOYcNrZJKmak"
      ],
      "name": "Project-Data-EN.ipynb",
      "provenance": []
    },
    "kernelspec": {
      "display_name": "Python 3",
      "name": "python3"
    },
    "language_info": {
      "codemirror_mode": {
        "name": "ipython",
        "version": 3
      },
      "file_extension": ".py",
      "mimetype": "text/x-python",
      "name": "python",
      "nbconvert_exporter": "python",
      "pygments_lexer": "ipython3",
      "version": "3.10.2"
    }
  },
  "nbformat": 4,
  "nbformat_minor": 0
}
